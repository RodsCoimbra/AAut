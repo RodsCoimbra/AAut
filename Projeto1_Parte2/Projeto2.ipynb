{
 "cells": [
  {
   "cell_type": "code",
   "execution_count": 7,
   "metadata": {},
   "outputs": [],
   "source": [
    "import numpy as np\n",
    "import matplotlib.pyplot as plt\n",
    "from sklearn import linear_model\n",
    "from sklearn.model_selection import KFold, train_test_split\n",
    "from sklearn.neighbors import NearestNeighbors\n",
    "from sklearn.pipeline import Pipeline\n",
    "from sklearn.preprocessing import StandardScaler\n",
    "from sklearn.inspection import DecisionBoundaryDisplay"
   ]
  },
  {
   "cell_type": "code",
   "execution_count": 8,
   "metadata": {},
   "outputs": [],
   "source": [
    "x = np.load(\"Dados/X_train_regression2.npy\")\n",
    "y = np.load(\"Dados/y_train_regression2.npy\")\n",
    "X_train, X_test, y_train, y_test = train_test_split(x, y, test_size=.2)\n",
    "scaler = StandardScaler()"
   ]
  },
  {
   "cell_type": "code",
   "execution_count": 3,
   "metadata": {},
   "outputs": [],
   "source": [
    "scaler.fit(X_train)\n",
    "X_train = scaler.transform(X_train)"
   ]
  },
  {
   "cell_type": "code",
   "execution_count": 4,
   "metadata": {},
   "outputs": [],
   "source": [
    "classifier = NearestNeighbors(n_neighbors=3)\n",
    "classifier.fit(X_train, y_train)\n",
    "distances, indices = classifier.kneighbors(X_train)"
   ]
  },
  {
   "cell_type": "code",
   "execution_count": 5,
   "metadata": {},
   "outputs": [
    {
     "data": {
      "text/plain": [
       "array([[2.10734243e-08, 7.91130237e-01, 8.19092699e-01, ...,\n",
       "        2.37282055e+00, 2.38832774e+00, 2.40492444e+00],\n",
       "       [0.00000000e+00, 1.37812224e-01, 6.34591131e-01, ...,\n",
       "        2.19313519e+00, 2.20154484e+00, 2.28370699e+00],\n",
       "       [0.00000000e+00, 8.13271664e-01, 8.89403720e-01, ...,\n",
       "        2.17023030e+00, 2.17741468e+00, 2.18963448e+00],\n",
       "       ...,\n",
       "       [5.96046448e-08, 1.02461762e+00, 1.12144699e+00, ...,\n",
       "        3.59335344e+00, 3.63728989e+00, 3.65693308e+00],\n",
       "       [0.00000000e+00, 6.39544129e-01, 9.21110615e-01, ...,\n",
       "        2.33704081e+00, 2.34897311e+00, 2.35342946e+00],\n",
       "       [0.00000000e+00, 7.11905155e-01, 8.83046562e-01, ...,\n",
       "        2.32932930e+00, 2.35269730e+00, 2.35531349e+00]])"
      ]
     },
     "execution_count": 5,
     "metadata": {},
     "output_type": "execute_result"
    }
   ],
   "source": [
    "distances"
   ]
  },
  {
   "cell_type": "code",
   "execution_count": 6,
   "metadata": {},
   "outputs": [
    {
     "data": {
      "text/plain": [
       "array([[ 0, 53, 62, ..., 77, 67, 58],\n",
       "       [ 1, 38, 55, ..., 24, 37,  4],\n",
       "       [ 2, 27, 51, ...,  8, 24, 14],\n",
       "       ...,\n",
       "       [77, 76, 18, ..., 56,  8, 57],\n",
       "       [78, 21, 47, ..., 32, 63, 10],\n",
       "       [79, 55, 50, ..., 61, 19, 73]], dtype=int64)"
      ]
     },
     "execution_count": 6,
     "metadata": {},
     "output_type": "execute_result"
    }
   ],
   "source": [
    "indices"
   ]
  },
  {
   "cell_type": "code",
   "execution_count": null,
   "metadata": {},
   "outputs": [],
   "source": []
  }
 ],
 "metadata": {
  "kernelspec": {
   "display_name": "Python 3",
   "language": "python",
   "name": "python3"
  },
  "language_info": {
   "codemirror_mode": {
    "name": "ipython",
    "version": 3
   },
   "file_extension": ".py",
   "mimetype": "text/x-python",
   "name": "python",
   "nbconvert_exporter": "python",
   "pygments_lexer": "ipython3",
   "version": "3.10.8"
  },
  "orig_nbformat": 4
 },
 "nbformat": 4,
 "nbformat_minor": 2
}
