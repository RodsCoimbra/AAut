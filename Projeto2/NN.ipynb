{
 "cells": [
  {
   "cell_type": "code",
   "execution_count": 1,
   "metadata": {},
   "outputs": [],
   "source": [
    "import numpy as np\n",
    "import matplotlib.pyplot as plt\n",
    "from keras.models import Sequential\n",
    "from keras.callbacks import EarlyStopping\n",
    "from keras.layers import Dense, Convolution2D, MaxPooling2D, Flatten, Dropout\n",
    "from sklearn.model_selection import train_test_split\n",
    "from sklearn.metrics import confusion_matrix, ConfusionMatrixDisplay\n",
    "from keras.optimizers import Adam\n",
    "from keras.utils import to_categorical\n",
    "from sklearn.metrics import balanced_accuracy_score\n",
    "import cv2\n",
    "from imblearn.over_sampling import RandomOverSampler, SMOTE"
   ]
  },
  {
   "cell_type": "markdown",
   "metadata": {},
   "source": [
    "# DADOS"
   ]
  },
  {
   "cell_type": "code",
   "execution_count": 2,
   "metadata": {},
   "outputs": [],
   "source": [
    "xt = np.load(\"Dados/Xtrain_Classification1.npy\") \n",
    "yt = np.load(\"Dados/ytrain_Classification1.npy\")\n",
    "xScaled =  (xt).astype('float32')/255.0"
   ]
  },
  {
   "cell_type": "code",
   "execution_count": 3,
   "metadata": {},
   "outputs": [],
   "source": [
    "X_train, X_test, y_train, y_test = train_test_split(xScaled, yt, test_size=0.2, shuffle=True, random_state=10, stratify=yt)\n",
    "X_train, X_validation, y_train, y_validation = train_test_split(X_train, y_train, test_size=0.2, shuffle=True, random_state=10,stratify=y_train)\n",
    "\n",
    "# sm = SMOTE(random_state = 2) \n",
    "# X_train, y_train = sm.fit_resample(X_train, y_train) "
   ]
  },
  {
   "cell_type": "markdown",
   "metadata": {},
   "source": [
    "# Rodar imagens"
   ]
  },
  {
   "cell_type": "code",
   "execution_count": 4,
   "metadata": {},
   "outputs": [],
   "source": [
    "X_testrs = X_test.reshape(-1, 28,28,3)\n",
    "X_trainrs = X_train.reshape(-1, 28,28,3)\n",
    "X_validationrs = X_validation.reshape(-1, 28,28,3)\n",
    "addx = np.array([])\n",
    "addy = np.array([]) \n",
    "for idx, i in enumerate(y_train):\n",
    "        for l in range(3):\n",
    "            if l == 0:\n",
    "                if not np.any(addx):\n",
    "                    addx = np.expand_dims(cv2.rotate(X_trainrs[idx], cv2.ROTATE_90_COUNTERCLOCKWISE), axis=0)\n",
    "                    addy = np.append(addy,i)\n",
    "                else:\n",
    "                    aux = np.expand_dims(cv2.rotate(X_trainrs[idx], cv2.ROTATE_90_COUNTERCLOCKWISE), axis=0)\n",
    "                    addx = np.append(addx,aux,axis=0)\n",
    "                    addy = np.append(addy,i)\n",
    "                   \n",
    "            elif l == 1:\n",
    "                aux = np.expand_dims(cv2.rotate(X_trainrs[idx], cv2.ROTATE_90_CLOCKWISE), axis=0) \n",
    "                addx = np.append(addx,aux,axis=0)\n",
    "                addy = np.append(addy,i)\n",
    "            \n",
    "            elif l == 2:\n",
    "                aux = np.expand_dims(cv2.rotate(X_trainrs[idx],  cv2.ROTATE_180), axis=0) \n",
    "                addx = np.append(addx,aux,axis=0)\n",
    "                addy = np.append(addy,i)\n",
    "\n",
    "X_trainrs = np.append(X_trainrs,addx,axis=0) \n",
    "y_train = np.append(y_train,addy)\n",
    "\n",
    "\n"
   ]
  },
  {
   "cell_type": "code",
   "execution_count": 5,
   "metadata": {},
   "outputs": [],
   "source": [
    "\n",
    "X_trainrs = X_trainrs.reshape(-1, 28*28*3)  \n",
    "oversample = RandomOverSampler(sampling_strategy='minority')\n",
    "X_trainrs, y_train = oversample.fit_resample(X_trainrs, y_train)\n",
    "X_trainrs = X_trainrs.reshape(-1, 28,28,3)\n",
    "y_train = to_categorical(y_train,2)\n",
    "y_validation = to_categorical(y_validation,2)\n",
    "y_test = to_categorical(y_test,2)\n"
   ]
  },
  {
   "cell_type": "markdown",
   "metadata": {},
   "source": [
    "# Apenas para ver as imagens"
   ]
  },
  {
   "cell_type": "code",
   "execution_count": 6,
   "metadata": {},
   "outputs": [
    {
     "data": {
      "image/png": "[encoded data removed]",
      "text/plain": [
       "<Figure size 640x480 with 1 Axes>"
      ]
     },
     "metadata": {},
     "output_type": "display_data"
    },
    {
     "data": {
      "image/png": "[encoded data removed]",
      "text/plain": [
       "<Figure size 640x480 with 1 Axes>"
      ]
     },
     "metadata": {},
     "output_type": "display_data"
    },
    {
     "name": "stdout",
     "output_type": "stream",
     "text": [
      "[[0. 1.]\n",
      " [0. 1.]]\n"
     ]
    }
   ],
   "source": [
    "img = X_trainrs\n",
    "for i in img[-2:]:\n",
    "    plt.imshow(i)\n",
    "    plt.show()\n",
    "print(y_train[-2:])"
   ]
  },
  {
   "cell_type": "markdown",
   "metadata": {},
   "source": [
    "# CNN"
   ]
  },
  {
   "cell_type": "code",
   "execution_count": 33,
   "metadata": {},
   "outputs": [],
   "source": [
    "MLP = Sequential()\n",
    "MLP.add(Convolution2D(16, kernel_size = 3, activation='relu', input_shape=(28, 28, 3), padding='same'))\n",
    "MLP.add(MaxPooling2D((2, 2), strides=2))\n",
    "MLP.add(Convolution2D(32, kernel_size = 3, activation='relu', padding='same'))\n",
    "MLP.add(MaxPooling2D((2, 2), strides=2))\n",
    "MLP.add(Convolution2D(32, kernel_size = 7, activation='relu', padding='same'))\n",
    "MLP.add(MaxPooling2D((2, 2), strides=2))\n",
    "MLP.add(Flatten())\n",
    "MLP.add(Dense(64, activation='relu'))\n",
    "MLP.add(Dense(32, activation='relu'))\n",
    "MLP.add(Dropout(0.5))\n",
    "MLP.add(Dense(2, activation='softmax'))\n"
   ]
  },
  {
   "cell_type": "markdown",
   "metadata": {},
   "source": [
    "# MLP"
   ]
  },
  {
   "cell_type": "code",
   "execution_count": 34,
   "metadata": {},
   "outputs": [],
   "source": [
    "# MLP = Sequential()\n",
    "# MLP.add(Dense(64,input_dim=28*28*3, activation='relu'))\n",
    "# MLP.add(Dense(32, activation='relu'))\n",
    "# MLP.add(Dense(2, activation='softmax'))\n",
    "# X_trainrs = X_train.reshape(-1, 28*28*3)\n",
    "# X_validationrs = X_validation\n",
    "# X_testrs = X_test"
   ]
  },
  {
   "cell_type": "code",
   "execution_count": 35,
   "metadata": {},
   "outputs": [
    {
     "name": "stdout",
     "output_type": "stream",
     "text": [
      "Model: \"sequential_2\"\n",
      "_________________________________________________________________\n",
      " Layer (type)                Output Shape              Param #   \n",
      "=================================================================\n",
      " conv2d_6 (Conv2D)           (None, 28, 28, 16)        448       \n",
      "                                                                 \n",
      " max_pooling2d_6 (MaxPoolin  (None, 14, 14, 16)        0         \n",
      " g2D)                                                            \n",
      "                                                                 \n",
      " conv2d_7 (Conv2D)           (None, 14, 14, 32)        4640      \n",
      "                                                                 \n",
      " max_pooling2d_7 (MaxPoolin  (None, 7, 7, 32)          0         \n",
      " g2D)                                                            \n",
      "                                                                 \n",
      " conv2d_8 (Conv2D)           (None, 7, 7, 32)          50208     \n",
      "                                                                 \n",
      " max_pooling2d_8 (MaxPoolin  (None, 3, 3, 32)          0         \n",
      " g2D)                                                            \n",
      "                                                                 \n",
      " flatten_2 (Flatten)         (None, 288)               0         \n",
      "                                                                 \n",
      " dense_8 (Dense)             (None, 64)                18496     \n",
      "                                                                 \n",
      " dense_9 (Dense)             (None, 32)                2080      \n",
      "                                                                 \n",
      " dropout_2 (Dropout)         (None, 32)                0         \n",
      "                                                                 \n",
      " dense_10 (Dense)            (None, 2)                 66        \n",
      "                                                                 \n",
      "=================================================================\n",
      "Total params: 75938 (296.63 KB)\n",
      "Trainable params: 75938 (296.63 KB)\n",
      "Non-trainable params: 0 (0.00 Byte)\n",
      "_________________________________________________________________\n"
     ]
    }
   ],
   "source": [
    "MLP.summary()"
   ]
  },
  {
   "cell_type": "markdown",
   "metadata": {},
   "source": [
    "# Fit"
   ]
  },
  {
   "cell_type": "code",
   "execution_count": 36,
   "metadata": {},
   "outputs": [],
   "source": [
    "# lr_callback = tf.keras.callbacks.ReduceLROnPlateau(\n",
    "#     monitor='val_loss',\n",
    "#     factor=0.8,\n",
    "#     patience=4,\n",
    "#     min_lr=0.0001\n",
    "# )\n",
    "MLP.compile(optimizer=Adam(learning_rate=0.001), loss='categorical_crossentropy', metrics=['accuracy'])\n"
   ]
  },
  {
   "cell_type": "code",
   "execution_count": 37,
   "metadata": {},
   "outputs": [
    {
     "name": "stdout",
     "output_type": "stream",
     "text": [
      "Epoch 1/100\n",
      "28/28 - 15s - loss: 0.6559 - accuracy: 0.6191 - val_loss: 0.7148 - val_accuracy: 0.6024 - 15s/epoch - 518ms/step\n",
      "Epoch 2/100\n",
      "28/28 - 12s - loss: 0.5655 - accuracy: 0.7175 - val_loss: 0.5830 - val_accuracy: 0.6274 - 12s/epoch - 439ms/step\n",
      "Epoch 3/100\n",
      "28/28 - 13s - loss: 0.5142 - accuracy: 0.7398 - val_loss: 0.4694 - val_accuracy: 0.6444 - 13s/epoch - 448ms/step\n",
      "Epoch 4/100\n",
      "28/28 - 13s - loss: 0.4798 - accuracy: 0.7528 - val_loss: 0.4440 - val_accuracy: 0.6923 - 13s/epoch - 453ms/step\n",
      "Epoch 5/100\n",
      "28/28 - 12s - loss: 0.4644 - accuracy: 0.7675 - val_loss: 0.4475 - val_accuracy: 0.7213 - 12s/epoch - 446ms/step\n",
      "Epoch 6/100\n",
      "28/28 - 12s - loss: 0.4517 - accuracy: 0.7741 - val_loss: 0.4929 - val_accuracy: 0.7053 - 12s/epoch - 432ms/step\n",
      "Epoch 7/100\n",
      "28/28 - 12s - loss: 0.4341 - accuracy: 0.7868 - val_loss: 0.3328 - val_accuracy: 0.8541 - 12s/epoch - 425ms/step\n",
      "Epoch 8/100\n",
      "28/28 - 12s - loss: 0.4400 - accuracy: 0.7790 - val_loss: 0.4220 - val_accuracy: 0.7532 - 12s/epoch - 430ms/step\n",
      "Epoch 9/100\n",
      "28/28 - 12s - loss: 0.4234 - accuracy: 0.7933 - val_loss: 0.4240 - val_accuracy: 0.7742 - 12s/epoch - 434ms/step\n",
      "Epoch 10/100\n",
      "28/28 - 11s - loss: 0.4067 - accuracy: 0.8031 - val_loss: 0.4114 - val_accuracy: 0.7962 - 11s/epoch - 404ms/step\n",
      "Epoch 11/100\n",
      "28/28 - 11s - loss: 0.4070 - accuracy: 0.8045 - val_loss: 0.3563 - val_accuracy: 0.8392 - 11s/epoch - 402ms/step\n",
      "Epoch 12/100\n",
      "28/28 - 11s - loss: 0.3986 - accuracy: 0.8083 - val_loss: 0.3391 - val_accuracy: 0.8501 - 11s/epoch - 394ms/step\n",
      "Epoch 13/100\n",
      "28/28 - 12s - loss: 0.3862 - accuracy: 0.8166 - val_loss: 0.3931 - val_accuracy: 0.8042 - 12s/epoch - 417ms/step\n",
      "Epoch 14/100\n",
      "28/28 - 13s - loss: 0.3875 - accuracy: 0.8137 - val_loss: 0.3801 - val_accuracy: 0.8112 - 13s/epoch - 462ms/step\n",
      "Epoch 15/100\n",
      "28/28 - 13s - loss: 0.3801 - accuracy: 0.8200 - val_loss: 0.3800 - val_accuracy: 0.8252 - 13s/epoch - 449ms/step\n",
      "Epoch 16/100\n",
      "28/28 - 13s - loss: 0.3739 - accuracy: 0.8245 - val_loss: 0.3825 - val_accuracy: 0.8112 - 13s/epoch - 467ms/step\n",
      "Epoch 17/100\n",
      "28/28 - 12s - loss: 0.3715 - accuracy: 0.8229 - val_loss: 0.3215 - val_accuracy: 0.8661 - 12s/epoch - 426ms/step\n",
      "Epoch 18/100\n",
      "28/28 - 12s - loss: 0.3767 - accuracy: 0.8201 - val_loss: 0.4263 - val_accuracy: 0.7712 - 12s/epoch - 431ms/step\n",
      "Epoch 19/100\n",
      "28/28 - 12s - loss: 0.3652 - accuracy: 0.8272 - val_loss: 0.4081 - val_accuracy: 0.7852 - 12s/epoch - 427ms/step\n",
      "Epoch 20/100\n",
      "28/28 - 12s - loss: 0.3563 - accuracy: 0.8336 - val_loss: 0.3666 - val_accuracy: 0.8302 - 12s/epoch - 425ms/step\n",
      "Epoch 21/100\n",
      "28/28 - 12s - loss: 0.3441 - accuracy: 0.8407 - val_loss: 0.2901 - val_accuracy: 0.8751 - 12s/epoch - 435ms/step\n",
      "Epoch 22/100\n",
      "28/28 - 12s - loss: 0.3537 - accuracy: 0.8337 - val_loss: 0.4778 - val_accuracy: 0.7473 - 12s/epoch - 444ms/step\n",
      "Epoch 23/100\n",
      "28/28 - 12s - loss: 0.3603 - accuracy: 0.8282 - val_loss: 0.3454 - val_accuracy: 0.8252 - 12s/epoch - 428ms/step\n",
      "Epoch 24/100\n",
      "28/28 - 12s - loss: 0.3332 - accuracy: 0.8476 - val_loss: 0.3874 - val_accuracy: 0.8102 - 12s/epoch - 423ms/step\n",
      "Epoch 25/100\n",
      "28/28 - 12s - loss: 0.3364 - accuracy: 0.8427 - val_loss: 0.3217 - val_accuracy: 0.8501 - 12s/epoch - 425ms/step\n",
      "Epoch 26/100\n",
      "28/28 - 12s - loss: 0.3483 - accuracy: 0.8364 - val_loss: 0.4442 - val_accuracy: 0.7483 - 12s/epoch - 423ms/step\n",
      "Epoch 27/100\n",
      "28/28 - 12s - loss: 0.3292 - accuracy: 0.8497 - val_loss: 0.4062 - val_accuracy: 0.7832 - 12s/epoch - 433ms/step\n",
      "Epoch 28/100\n",
      "28/28 - 12s - loss: 0.3233 - accuracy: 0.8513 - val_loss: 0.3259 - val_accuracy: 0.8342 - 12s/epoch - 436ms/step\n",
      "Epoch 29/100\n",
      "28/28 - 12s - loss: 0.3108 - accuracy: 0.8591 - val_loss: 0.3526 - val_accuracy: 0.8322 - 12s/epoch - 424ms/step\n",
      "Epoch 30/100\n",
      "28/28 - 12s - loss: 0.3121 - accuracy: 0.8600 - val_loss: 0.3122 - val_accuracy: 0.8551 - 12s/epoch - 423ms/step\n",
      "Epoch 31/100\n",
      "28/28 - 12s - loss: 0.2945 - accuracy: 0.8673 - val_loss: 0.3607 - val_accuracy: 0.8352 - 12s/epoch - 439ms/step\n",
      "Epoch 32/100\n",
      "28/28 - 14s - loss: 0.2928 - accuracy: 0.8675 - val_loss: 0.3420 - val_accuracy: 0.8272 - 14s/epoch - 496ms/step\n",
      "Epoch 33/100\n",
      "28/28 - 14s - loss: 0.2914 - accuracy: 0.8714 - val_loss: 0.2822 - val_accuracy: 0.8721 - 14s/epoch - 503ms/step\n",
      "Epoch 34/100\n",
      "28/28 - 12s - loss: 0.2778 - accuracy: 0.8775 - val_loss: 0.3918 - val_accuracy: 0.8212 - 12s/epoch - 440ms/step\n",
      "Epoch 35/100\n",
      "28/28 - 12s - loss: 0.2713 - accuracy: 0.8804 - val_loss: 0.3679 - val_accuracy: 0.8122 - 12s/epoch - 425ms/step\n",
      "Epoch 36/100\n",
      "28/28 - 13s - loss: 0.2685 - accuracy: 0.8848 - val_loss: 0.3593 - val_accuracy: 0.8412 - 13s/epoch - 452ms/step\n",
      "Epoch 37/100\n",
      "28/28 - 15s - loss: 0.2780 - accuracy: 0.8789 - val_loss: 0.4606 - val_accuracy: 0.7732 - 15s/epoch - 525ms/step\n",
      "Epoch 38/100\n",
      "28/28 - 14s - loss: 0.2530 - accuracy: 0.8936 - val_loss: 0.4022 - val_accuracy: 0.8272 - 14s/epoch - 487ms/step\n",
      "Epoch 39/100\n",
      "28/28 - 12s - loss: 0.2431 - accuracy: 0.8983 - val_loss: 0.3826 - val_accuracy: 0.8112 - 12s/epoch - 433ms/step\n",
      "Epoch 40/100\n",
      "28/28 - 12s - loss: 0.2344 - accuracy: 0.9026 - val_loss: 0.3882 - val_accuracy: 0.8272 - 12s/epoch - 412ms/step\n",
      "Epoch 41/100\n",
      "28/28 - 12s - loss: 0.2470 - accuracy: 0.8941 - val_loss: 0.3148 - val_accuracy: 0.8661 - 12s/epoch - 414ms/step\n",
      "Epoch 42/100\n",
      "28/28 - 12s - loss: 0.2323 - accuracy: 0.9036 - val_loss: 0.3708 - val_accuracy: 0.8432 - 12s/epoch - 420ms/step\n",
      "Epoch 43/100\n",
      "28/28 - 12s - loss: 0.2190 - accuracy: 0.9108 - val_loss: 0.3549 - val_accuracy: 0.8501 - 12s/epoch - 418ms/step\n",
      "Epoch 44/100\n",
      "28/28 - 12s - loss: 0.1948 - accuracy: 0.9223 - val_loss: 0.3399 - val_accuracy: 0.8701 - 12s/epoch - 420ms/step\n",
      "Epoch 45/100\n",
      "28/28 - 11s - loss: 0.2206 - accuracy: 0.9094 - val_loss: 0.3358 - val_accuracy: 0.8691 - 11s/epoch - 410ms/step\n",
      "Epoch 46/100\n",
      "28/28 - 12s - loss: 0.1861 - accuracy: 0.9276 - val_loss: 0.3707 - val_accuracy: 0.8731 - 12s/epoch - 420ms/step\n",
      "Epoch 47/100\n",
      "28/28 - 12s - loss: 0.1878 - accuracy: 0.9269 - val_loss: 0.3874 - val_accuracy: 0.8422 - 12s/epoch - 422ms/step\n",
      "Epoch 48/100\n",
      "28/28 - 12s - loss: 0.1811 - accuracy: 0.9298 - val_loss: 0.4058 - val_accuracy: 0.8322 - 12s/epoch - 419ms/step\n",
      "Epoch 49/100\n",
      "28/28 - 12s - loss: 0.1613 - accuracy: 0.9411 - val_loss: 0.5136 - val_accuracy: 0.8172 - 12s/epoch - 418ms/step\n",
      "Epoch 50/100\n",
      "28/28 - 12s - loss: 0.2658 - accuracy: 0.8883 - val_loss: 0.5159 - val_accuracy: 0.7732 - 12s/epoch - 418ms/step\n",
      "Epoch 51/100\n",
      "28/28 - 12s - loss: 0.2195 - accuracy: 0.9105 - val_loss: 0.3493 - val_accuracy: 0.8651 - 12s/epoch - 419ms/step\n",
      "Epoch 52/100\n",
      "28/28 - 11s - loss: 0.1597 - accuracy: 0.9402 - val_loss: 0.4463 - val_accuracy: 0.8332 - 11s/epoch - 409ms/step\n",
      "Epoch 53/100\n",
      "Restoring model weights from the end of the best epoch: 33.\n",
      "28/28 - 12s - loss: 0.1365 - accuracy: 0.9512 - val_loss: 0.5123 - val_accuracy: 0.8222 - 12s/epoch - 419ms/step\n",
      "Epoch 53: early stopping\n"
     ]
    }
   ],
   "source": [
    "Early_callback = EarlyStopping(monitor='val_loss', patience=20, mode='min', verbose=1, restore_best_weights=True, min_delta=0.0001)\n",
    "hist = MLP.fit(x=X_trainrs, y=y_train, epochs=100, validation_data=(X_validationrs, y_validation), verbose=2, batch_size=1000, callbacks=[Early_callback])"
   ]
  },
  {
   "cell_type": "markdown",
   "metadata": {},
   "source": [
    "# Gráficos e resultados"
   ]
  },
  {
   "cell_type": "code",
   "execution_count": 38,
   "metadata": {},
   "outputs": [
    {
     "data": {
      "image/png": "[encoded data removed]",
      "text/plain": [
       "<Figure size 640x480 with 1 Axes>"
      ]
     },
     "metadata": {},
     "output_type": "display_data"
    }
   ],
   "source": [
    "plotx = hist.history['loss']\n",
    "plotty = hist.history['val_loss']\n",
    "plt.plot(plotx)\n",
    "plt.plot(plotty)\n",
    "plt.xlabel('Epochs')\n",
    "plt.ylabel('Loss')\n",
    "plt.legend(['Train', 'Validation'])\n",
    "plt.show()"
   ]
  },
  {
   "cell_type": "code",
   "execution_count": 39,
   "metadata": {},
   "outputs": [],
   "source": [
    "# y_predtrain = MLP.predict(X_trainrs, verbose=0)\n",
    "# y_predtrain = np.argmax(y_predtrain, axis=1)\n",
    "# cm2 = confusion_matrix(np.argmax(y_train, axis=1), y_predtrain)\n",
    "# disp2 = ConfusionMatrixDisplay(confusion_matrix=cm2, display_labels=[0,1])\n",
    "# disp2.plot()\n",
    "# plt.show()\n",
    "# print(\"F1 ->\", f1_score(np.argmax(y_train, axis=1), y_predtrain))"
   ]
  },
  {
   "cell_type": "code",
   "execution_count": 40,
   "metadata": {},
   "outputs": [
    {
     "name": "stdout",
     "output_type": "stream",
     "text": [
      "40/40 [==============================] - 0s 5ms/step - loss: 0.2852 - accuracy: 0.8633\n",
      "F1 -> 0.5183098591549297\n",
      "Balanced ACC -> 0.7178041357458518\n",
      "[[988  84]\n",
      " [ 87  92]]\n"
     ]
    }
   ],
   "source": [
    "from sklearn.metrics import f1_score\n",
    "y_pred = MLP.predict(X_testrs, verbose=0)\n",
    "y_pred = np.argmax(y_pred, axis=1)\n",
    "MLP.evaluate(X_testrs, y_test, verbose=1)\n",
    "y_comp = np.argmax(y_test, axis=1)\n",
    "print(\"F1 ->\", f1_score(y_comp, y_pred))\n",
    "print(\"Balanced ACC ->\", balanced_accuracy_score(y_comp, y_pred))\n",
    "cm = confusion_matrix(y_comp, y_pred)\n",
    "print(cm)"
   ]
  },
  {
   "cell_type": "code",
   "execution_count": 41,
   "metadata": {},
   "outputs": [
    {
     "data": {
      "text/plain": [
       "171"
      ]
     },
     "execution_count": 41,
     "metadata": {},
     "output_type": "execute_result"
    }
   ],
   "source": [
    "counter = 0\n",
    "for i in range(len(y_comp)):\n",
    "    if(y_pred[i] != y_comp[i]):\n",
    "        counter+=1\n",
    "counter"
   ]
  },
  {
   "cell_type": "code",
   "execution_count": 42,
   "metadata": {},
   "outputs": [
    {
     "data": {
      "image/png": "[encoded data removed]",
      "text/plain": [
       "<Figure size 640x480 with 2 Axes>"
      ]
     },
     "metadata": {},
     "output_type": "display_data"
    }
   ],
   "source": [
    "cm = confusion_matrix(y_comp, y_pred)\n",
    "disp = ConfusionMatrixDisplay(confusion_matrix=cm, display_labels=[0,1])\n",
    "disp.plot()\n",
    "plt.show()\n"
   ]
  },
  {
   "cell_type": "markdown",
   "metadata": {},
   "source": [
    "# Valores finais a prever"
   ]
  },
  {
   "cell_type": "code",
   "execution_count": 43,
   "metadata": {},
   "outputs": [],
   "source": [
    "# X_testfinal = np.load(\"Dados/Xtest_Classification1.npy\")\n",
    "# X_testfinal = X_testfinal.astype('float32')/255.0\n",
    "# X_testfinal = X_testfinal.reshape(-1, 28,28,3)  \n",
    "# y_final = MLP.predict(X_testfinal, verbose=0)\n",
    "# y_final = np.argmax(y_final, axis=1)\n",
    "# np.save(\"Dados/yfinal_Classification1.npy\", y_final)\n"
   ]
  },
  {
   "cell_type": "code",
   "execution_count": 44,
   "metadata": {},
   "outputs": [],
   "source": [
    "# counter1 = 0\n",
    "# counter0 = 0\n",
    "# for i in y_final:\n",
    "#     if i == 1: \n",
    "#         counter1 += 1\n",
    "#     if i == 0:\n",
    "#         counter0 +=1\n",
    "# print(counter0)\n",
    "# print(counter1)"
   ]
  },
  {
   "cell_type": "code",
   "execution_count": null,
   "metadata": {},
   "outputs": [],
   "source": []
  }
 ],
 "metadata": {
  "kernelspec": {
   "display_name": "Python 3",
   "language": "python",
   "name": "python3"
  },
  "language_info": {
   "codemirror_mode": {
    "name": "ipython",
    "version": 3
   },
   "file_extension": ".py",
   "mimetype": "text/x-python",
   "name": "python",
   "nbconvert_exporter": "python",
   "pygments_lexer": "ipython3",
   "version": "3.10.8"
  }
 },
 "nbformat": 4,
 "nbformat_minor": 2
}
