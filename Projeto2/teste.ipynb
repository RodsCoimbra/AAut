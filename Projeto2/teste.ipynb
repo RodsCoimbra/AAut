{
 "cells": [
  {
   "cell_type": "code",
   "execution_count": 2,
   "metadata": {},
   "outputs": [],
   "source": [
    "import numpy as np\n",
    "import matplotlib.pyplot as plt\n",
    "from sklearn.preprocessing import StandardScaler, MinMaxScaler\n",
    "from keras.models import Sequential\n",
    "from keras.callbacks import EarlyStopping\n",
    "from keras.layers import Dense, Convolution2D, MaxPooling2D, Flatten, BatchNormalization, Dropout, Activation\n",
    "from sklearn.model_selection import train_test_split\n",
    "from sklearn.metrics import confusion_matrix, ConfusionMatrixDisplay\n",
    "import sklearn.metrics as metrics\n",
    "from keras.optimizers import Adam\n",
    "from keras.utils import to_categorical\n",
    "import tensorflow as tf\n",
    "from sklearn.metrics import balanced_accuracy_score\n",
    "import cv2\n",
    "from imblearn.over_sampling import RandomOverSampler, SMOTE"
   ]
  },
  {
   "cell_type": "markdown",
   "metadata": {},
   "source": [
    "# DADOS"
   ]
  },
  {
   "cell_type": "code",
   "execution_count": 3,
   "metadata": {},
   "outputs": [],
   "source": [
    "xt = np.load(\"Dados/Xtrain_Classification1.npy\") \n",
    "yt = np.load(\"Dados/ytrain_Classification1.npy\")\n",
    "# scalerx = MinMaxScaler().fit(xt)\n",
    "# xScaled = scalerx.transform(xt)\n",
    "# scalerx = StandardScaler().fit(xt)\n",
    "# xScaled = scalerx.transform(xt)\n",
    "xScaled =  (xt).astype('float32')/255.0\n",
    "# oi = (xt).reshape(-1,28,28,3)\n",
    "# for i in oi[0:1]:\n",
    "#     plt.imshow(i)\n",
    "#     plt.show()\n",
    "# oi = (xScaled).reshape(-1,28,28,3)\n",
    "# for i in oi[0:1]:\n",
    "#     plt.imshow(i)\n",
    "#     plt.show()"
   ]
  },
  {
   "cell_type": "code",
   "execution_count": 4,
   "metadata": {},
   "outputs": [],
   "source": [
    "X_train, X_test, y_train, y_test = train_test_split(xScaled, yt, test_size=0.2, shuffle=True, random_state=10)\n",
    "X_train, X_validation, y_train, y_validation = train_test_split(X_train, y_train, test_size=0.2, shuffle=True, random_state=10)\n",
    "\n",
    "# sm = SMOTE(random_state = 2) \n",
    "# X_train, y_train = sm.fit_resample(X_train, y_train) \n",
    "\n",
    "\n",
    "# print(y_train)\n",
    "  \n",
    "# print(\"After OverSampling, counts of label '1': {}\".format(sum(y_train == 1))) \n",
    "# print(\"After OverSampling, counts of label '0': {}\".format(sum(y_train == 0))) \n",
    "# y_train = to_categorical(y_train,2)\n",
    "# X_testrs = X_test.reshape(-1, 28,28,3)\n",
    "# X_trainrs = X_train.reshape(-1, 28,28,3)\n",
    "# X_validationrs = X_validation.reshape(-1, 28,28,3)"
   ]
  },
  {
   "cell_type": "code",
   "execution_count": 5,
   "metadata": {},
   "outputs": [],
   "source": [
    "X_testrs = X_test.reshape(-1, 28,28,3)\n",
    "X_trainrs = X_train.reshape(-1, 28,28,3)\n",
    "X_validationrs = X_validation.reshape(-1, 28,28,3)\n",
    "addx = np.array([])\n",
    "addy = np.array([]) \n",
    "for idx, i in enumerate(y_train):\n",
    "        for l in range(3):\n",
    "            if l == 0:\n",
    "                if not np.any(addx):\n",
    "                    addx = np.expand_dims(cv2.rotate(X_trainrs[idx], cv2.ROTATE_90_COUNTERCLOCKWISE), axis=0)\n",
    "                    addy = np.append(addy,i)\n",
    "                else:\n",
    "                    aux = np.expand_dims(cv2.rotate(X_trainrs[idx], cv2.ROTATE_90_COUNTERCLOCKWISE), axis=0)\n",
    "                    addx = np.append(addx,aux,axis=0)\n",
    "                    addy = np.append(addy,i)\n",
    "                   \n",
    "            elif l == 1:\n",
    "                aux = np.expand_dims(cv2.rotate(X_trainrs[idx], cv2.ROTATE_90_CLOCKWISE), axis=0) \n",
    "                addx = np.append(addx,aux,axis=0)\n",
    "                addy = np.append(addy,i)\n",
    "            \n",
    "            elif l == 2:\n",
    "                aux = np.expand_dims(cv2.rotate(X_trainrs[idx],  cv2.ROTATE_180), axis=0) \n",
    "                addx = np.append(addx,aux,axis=0)\n",
    "                addy = np.append(addy,i)\n",
    "\n",
    "X_trainrs = np.append(X_trainrs,addx,axis=0) \n",
    "y_train = np.append(y_train,addy)\n",
    "\n",
    "# counter1 = 0\n",
    "# counter0 = 0\n",
    "# for i in y_train:\n",
    "#     if i[1] == 1: \n",
    "#         counter1 += 1\n",
    "#     if i[1] == 0:\n",
    "#         counter0 +=1\n",
    "\n",
    "# print(counter1)\n",
    "# print(counter0)\n",
    "\n"
   ]
  },
  {
   "cell_type": "code",
   "execution_count": 6,
   "metadata": {},
   "outputs": [],
   "source": [
    "# counterx=0\n",
    "# countery=0\n",
    "# increment = 4\n",
    "# add = []\n",
    "# for idx, i in enumerate(y_train):\n",
    "#         if i == 1:\n",
    "#             counterx += increment\n",
    "#             for k in range(0, increment-1):\n",
    "#                 y_train = np.append(y_train, i)\n",
    "#                 add = np.append(add, X_train[idx, :])\n",
    "#         else: \n",
    "#              countery += 1\n",
    "# X_train = np.append(X_train, add)\n",
    "# print(counterx/(counterx+countery), countery/(counterx+countery), counterx, countery)\n",
    "X_trainrs = X_trainrs.reshape(-1, 28*28*3)  \n",
    "oversample = RandomOverSampler(sampling_strategy='minority')\n",
    "X_trainrs, y_train = oversample.fit_resample(X_trainrs, y_train)\n",
    "X_trainrs = X_trainrs.reshape(-1, 28,28,3)\n",
    "y_train = to_categorical(y_train,2)\n",
    "y_validation = to_categorical(y_validation,2)\n",
    "y_test = to_categorical(y_test,2)\n"
   ]
  },
  {
   "cell_type": "code",
   "execution_count": 7,
   "metadata": {},
   "outputs": [],
   "source": [
    "# X_testrs = X_test.reshape(-1, 28,28,3)\n",
    "# X_trainrs = X_train.reshape(-1, 28,28,3)\n",
    "# X_validationrs = X_validation.reshape(-1, 28,28,3)\n",
    "# from scipy.ndimage import rotate\n",
    "# angle = [90, 180, 270]\n",
    "# for idx,i in enumerate(X_trainrs):\n",
    "#     if y_train[idx] == 1:\n",
    "#         for ang in angle:\n",
    "#             X_trainrs = np.vstack((X_trainrs, rotate(i, ang, reshape=False).reshape(-1,28,28,3)))\n",
    "#             y_train = np.append(y_train,y_train[idx])\n",
    "# y_train = to_categorical(y_train,2)\n",
    "# y_validation = to_categorical(y_validation,2)\n",
    "# counter1 = 0\n",
    "# counter0 = 0\n",
    "# for i in y_train:\n",
    "#     if i[1] == 1: \n",
    "#         counter1 += 1\n",
    "#     if i[1] == 0:\n",
    "#         counter0 +=1\n",
    "# print(counter1)\n",
    "# print(counter0)"
   ]
  },
  {
   "cell_type": "markdown",
   "metadata": {},
   "source": [
    "# Apenas para ver as imagens"
   ]
  },
  {
   "cell_type": "code",
   "execution_count": 8,
   "metadata": {},
   "outputs": [
    {
     "data": {
      "image/png": "[encoded data removed]",
      "text/plain": [
       "<Figure size 640x480 with 1 Axes>"
      ]
     },
     "metadata": {},
     "output_type": "display_data"
    },
    {
     "data": {
      "image/png": "[encoded data removed]",
      "text/plain": [
       "<Figure size 640x480 with 1 Axes>"
      ]
     },
     "metadata": {},
     "output_type": "display_data"
    },
    {
     "name": "stdout",
     "output_type": "stream",
     "text": [
      "[[0. 1.]\n",
      " [0. 1.]]\n"
     ]
    }
   ],
   "source": [
    "oi = X_trainrs\n",
    "for i in oi[-2:]:\n",
    "    plt.imshow(i)\n",
    "    plt.show()\n",
    "print(y_train[-2:])"
   ]
  },
  {
   "cell_type": "markdown",
   "metadata": {},
   "source": [
    "# Código da Neural Network"
   ]
  },
  {
   "cell_type": "code",
   "execution_count": 98,
   "metadata": {},
   "outputs": [],
   "source": [
    "# MLP = Sequential()\n",
    "# MLP.add(Convolution2D(16, kernel_size = 3, activation='relu', input_shape=(28, 28, 3), padding='same'))\n",
    "# MLP.add(MaxPooling2D((2, 2), strides=2))\n",
    "# MLP.add(Convolution2D(32, kernel_size = 3, activation='relu', padding='same'))\n",
    "# MLP.add(MaxPooling2D((2, 2), strides=2))\n",
    "# MLP.add(Convolution2D(32, kernel_size = 7, activation='relu', padding='same'))\n",
    "# MLP.add(MaxPooling2D((2, 2), strides=2))\n",
    "# MLP.add(Flatten())\n",
    "# MLP.add(Dense(64, activation='relu'))\n",
    "# MLP.add(Dense(32, activation='relu'))\n",
    "# MLP.add(Dropout(0.5))\n",
    "# MLP.add(Dense(64, activation='relu'))\n",
    "# MLP.add(Dropout(0.8))\n",
    "# MLP.add(Dense(2, activation='softmax'))\n",
    "\n",
    "\n",
    "MLP = Sequential()\n",
    "MLP.add(Convolution2D(16, (3,3), activation='relu', input_shape=(28, 28, 3), padding='same'))\n",
    "MLP.add(MaxPooling2D((2, 2), strides=2))\n",
    "MLP.add(Convolution2D(32, (5,5), activation='relu', padding='same'))\n",
    "MLP.add(MaxPooling2D((2, 2), strides=2))\n",
    "MLP.add(Convolution2D(32, (7,7), activation='relu', padding='same'))\n",
    "MLP.add(MaxPooling2D((2, 2), strides=2))\n",
    "MLP.add(Flatten())\n",
    "MLP.add(Dense(64, activation='relu'))\n",
    "MLP.add(Dense(32, activation='relu'))\n",
    "MLP.add(Dropout(0.7))\n",
    "MLP.add(Dense(32, activation='relu'))\n",
    "MLP.add(Dense(2, activation='softmax'))"
   ]
  },
  {
   "cell_type": "code",
   "execution_count": 99,
   "metadata": {},
   "outputs": [],
   "source": [
    "# MLP = Sequential()\n",
    "# MLP.add(Dense(64,input_dim=28*28*3, activation='relu'))\n",
    "# MLP.add(Dense(32, activation='relu'))\n",
    "# MLP.add(Dense(2, activation='softmax'))\n",
    "# X_trainrs = X_train.reshape(-1, 28*28*3)\n",
    "# X_validationrs = X_validation\n",
    "# X_testrs = X_test"
   ]
  },
  {
   "cell_type": "code",
   "execution_count": 100,
   "metadata": {},
   "outputs": [
    {
     "name": "stdout",
     "output_type": "stream",
     "text": [
      "Model: \"sequential_8\"\n",
      "_________________________________________________________________\n",
      " Layer (type)                Output Shape              Param #   \n",
      "=================================================================\n",
      " conv2d_26 (Conv2D)          (None, 28, 28, 16)        448       \n",
      "                                                                 \n",
      " max_pooling2d_23 (MaxPooli  (None, 14, 14, 16)        0         \n",
      " ng2D)                                                           \n",
      "                                                                 \n",
      " conv2d_27 (Conv2D)          (None, 14, 14, 32)        12832     \n",
      "                                                                 \n",
      " max_pooling2d_24 (MaxPooli  (None, 7, 7, 32)          0         \n",
      " ng2D)                                                           \n",
      "                                                                 \n",
      " conv2d_28 (Conv2D)          (None, 7, 7, 32)          50208     \n",
      "                                                                 \n",
      " max_pooling2d_25 (MaxPooli  (None, 3, 3, 32)          0         \n",
      " ng2D)                                                           \n",
      "                                                                 \n",
      " flatten_8 (Flatten)         (None, 288)               0         \n",
      "                                                                 \n",
      " dense_32 (Dense)            (None, 64)                18496     \n",
      "                                                                 \n",
      " dense_33 (Dense)            (None, 32)                2080      \n",
      "                                                                 \n",
      " dropout_12 (Dropout)        (None, 32)                0         \n",
      "                                                                 \n",
      " dense_34 (Dense)            (None, 32)                1056      \n",
      "                                                                 \n",
      " dense_35 (Dense)            (None, 2)                 66        \n",
      "                                                                 \n",
      "=================================================================\n",
      "Total params: 85186 (332.76 KB)\n",
      "Trainable params: 85186 (332.76 KB)\n",
      "Non-trainable params: 0 (0.00 Byte)\n",
      "_________________________________________________________________\n"
     ]
    }
   ],
   "source": [
    "MLP.summary()"
   ]
  },
  {
   "cell_type": "code",
   "execution_count": 101,
   "metadata": {},
   "outputs": [],
   "source": [
    "# learning_rate_schedule = tf.keras.optimizers.schedules.ExponentialDecay(\n",
    "#     initial_learning_rate=0.0001,\n",
    "#     decay_steps=10000,\n",
    "#     decay_rate=0.96\n",
    "# )\n",
    "# lr_callback = tf.keras.callbacks.ReduceLROnPlateau(\n",
    "#     monitor='val_loss',\n",
    "#     factor=0.8,\n",
    "#     patience=4,\n",
    "#     min_lr=0.0001\n",
    "# )\n",
    "MLP.compile(optimizer=Adam(learning_rate=0.001), loss='categorical_crossentropy', metrics=['accuracy'])\n"
   ]
  },
  {
   "cell_type": "code",
   "execution_count": 102,
   "metadata": {},
   "outputs": [
    {
     "name": "stdout",
     "output_type": "stream",
     "text": [
      "Epoch 1/100\n",
      "28/28 - 10s - loss: 0.6501 - accuracy: 0.6173 - val_loss: 0.5134 - val_accuracy: 0.6194 - 10s/epoch - 367ms/step\n",
      "Epoch 2/100\n",
      "28/28 - 9s - loss: 0.5508 - accuracy: 0.7122 - val_loss: 0.4887 - val_accuracy: 0.6154 - 9s/epoch - 308ms/step\n",
      "Epoch 3/100\n",
      "28/28 - 9s - loss: 0.5039 - accuracy: 0.7426 - val_loss: 0.5322 - val_accuracy: 0.6214 - 9s/epoch - 316ms/step\n",
      "Epoch 4/100\n",
      "28/28 - 9s - loss: 0.4779 - accuracy: 0.7623 - val_loss: 0.5225 - val_accuracy: 0.6563 - 9s/epoch - 332ms/step\n",
      "Epoch 5/100\n",
      "28/28 - 9s - loss: 0.4470 - accuracy: 0.7850 - val_loss: 0.4242 - val_accuracy: 0.7423 - 9s/epoch - 319ms/step\n",
      "Epoch 6/100\n",
      "28/28 - 9s - loss: 0.4253 - accuracy: 0.8000 - val_loss: 0.4368 - val_accuracy: 0.7383 - 9s/epoch - 312ms/step\n",
      "Epoch 7/100\n",
      "28/28 - 9s - loss: 0.4115 - accuracy: 0.8051 - val_loss: 0.4012 - val_accuracy: 0.7632 - 9s/epoch - 314ms/step\n",
      "Epoch 8/100\n",
      "28/28 - 9s - loss: 0.4169 - accuracy: 0.8002 - val_loss: 0.4641 - val_accuracy: 0.7193 - 9s/epoch - 323ms/step\n",
      "Epoch 9/100\n",
      "28/28 - 10s - loss: 0.3949 - accuracy: 0.8163 - val_loss: 0.3464 - val_accuracy: 0.8192 - 10s/epoch - 343ms/step\n",
      "Epoch 10/100\n",
      "28/28 - 9s - loss: 0.3896 - accuracy: 0.8183 - val_loss: 0.4637 - val_accuracy: 0.7223 - 9s/epoch - 328ms/step\n",
      "Epoch 11/100\n",
      "28/28 - 9s - loss: 0.3762 - accuracy: 0.8276 - val_loss: 0.5172 - val_accuracy: 0.7173 - 9s/epoch - 319ms/step\n",
      "Epoch 12/100\n",
      "28/28 - 9s - loss: 0.3727 - accuracy: 0.8302 - val_loss: 0.3981 - val_accuracy: 0.7662 - 9s/epoch - 319ms/step\n",
      "Epoch 13/100\n",
      "28/28 - 10s - loss: 0.3647 - accuracy: 0.8349 - val_loss: 0.3325 - val_accuracy: 0.8531 - 10s/epoch - 342ms/step\n",
      "Epoch 14/100\n",
      "28/28 - 10s - loss: 0.3707 - accuracy: 0.8284 - val_loss: 0.3503 - val_accuracy: 0.8192 - 10s/epoch - 359ms/step\n",
      "Epoch 15/100\n",
      "28/28 - 10s - loss: 0.3375 - accuracy: 0.8488 - val_loss: 0.3694 - val_accuracy: 0.8112 - 10s/epoch - 355ms/step\n",
      "Epoch 16/100\n",
      "28/28 - 10s - loss: 0.3406 - accuracy: 0.8472 - val_loss: 0.3742 - val_accuracy: 0.8152 - 10s/epoch - 351ms/step\n",
      "Epoch 17/100\n",
      "28/28 - 10s - loss: 0.3419 - accuracy: 0.8491 - val_loss: 0.3239 - val_accuracy: 0.8392 - 10s/epoch - 372ms/step\n",
      "Epoch 18/100\n",
      "28/28 - 10s - loss: 0.3266 - accuracy: 0.8536 - val_loss: 0.3417 - val_accuracy: 0.8342 - 10s/epoch - 351ms/step\n",
      "Epoch 19/100\n",
      "28/28 - 10s - loss: 0.3145 - accuracy: 0.8618 - val_loss: 0.3553 - val_accuracy: 0.8282 - 10s/epoch - 344ms/step\n",
      "Epoch 20/100\n",
      "28/28 - 9s - loss: 0.3020 - accuracy: 0.8697 - val_loss: 0.4344 - val_accuracy: 0.7732 - 9s/epoch - 339ms/step\n",
      "Epoch 21/100\n",
      "28/28 - 10s - loss: 0.2912 - accuracy: 0.8760 - val_loss: 0.3654 - val_accuracy: 0.8252 - 10s/epoch - 344ms/step\n",
      "Epoch 22/100\n",
      "28/28 - 10s - loss: 0.2921 - accuracy: 0.8750 - val_loss: 0.3408 - val_accuracy: 0.8472 - 10s/epoch - 344ms/step\n",
      "Epoch 23/100\n",
      "28/28 - 10s - loss: 0.2765 - accuracy: 0.8852 - val_loss: 0.3295 - val_accuracy: 0.8611 - 10s/epoch - 349ms/step\n",
      "Epoch 24/100\n",
      "28/28 - 10s - loss: 0.2828 - accuracy: 0.8796 - val_loss: 0.3379 - val_accuracy: 0.8422 - 10s/epoch - 349ms/step\n",
      "Epoch 25/100\n",
      "28/28 - 10s - loss: 0.2703 - accuracy: 0.8869 - val_loss: 0.3569 - val_accuracy: 0.8392 - 10s/epoch - 356ms/step\n",
      "Epoch 26/100\n",
      "28/28 - 10s - loss: 0.2557 - accuracy: 0.8933 - val_loss: 0.3706 - val_accuracy: 0.8262 - 10s/epoch - 349ms/step\n",
      "Epoch 27/100\n",
      "28/28 - 9s - loss: 0.2461 - accuracy: 0.8984 - val_loss: 0.3827 - val_accuracy: 0.8501 - 9s/epoch - 329ms/step\n",
      "Epoch 28/100\n",
      "28/28 - 9s - loss: 0.2355 - accuracy: 0.9054 - val_loss: 0.3674 - val_accuracy: 0.8601 - 9s/epoch - 324ms/step\n",
      "Epoch 29/100\n",
      "28/28 - 9s - loss: 0.2611 - accuracy: 0.8903 - val_loss: 0.3989 - val_accuracy: 0.8332 - 9s/epoch - 334ms/step\n",
      "Epoch 30/100\n",
      "28/28 - 9s - loss: 0.2157 - accuracy: 0.9168 - val_loss: 0.4378 - val_accuracy: 0.8202 - 9s/epoch - 336ms/step\n",
      "Epoch 31/100\n",
      "28/28 - 9s - loss: 0.2483 - accuracy: 0.8965 - val_loss: 0.4024 - val_accuracy: 0.8591 - 9s/epoch - 338ms/step\n",
      "Epoch 32/100\n",
      "28/28 - 9s - loss: 0.2018 - accuracy: 0.9223 - val_loss: 0.3956 - val_accuracy: 0.8701 - 9s/epoch - 336ms/step\n",
      "Epoch 33/100\n",
      "28/28 - 9s - loss: 0.1798 - accuracy: 0.9334 - val_loss: 0.4310 - val_accuracy: 0.8731 - 9s/epoch - 327ms/step\n",
      "Epoch 34/100\n",
      "28/28 - 9s - loss: 0.2716 - accuracy: 0.8846 - val_loss: 0.3785 - val_accuracy: 0.8631 - 9s/epoch - 325ms/step\n",
      "Epoch 35/100\n",
      "28/28 - 9s - loss: 0.2197 - accuracy: 0.9127 - val_loss: 0.3634 - val_accuracy: 0.8492 - 9s/epoch - 331ms/step\n",
      "Epoch 36/100\n",
      "28/28 - 9s - loss: 0.1863 - accuracy: 0.9300 - val_loss: 0.4106 - val_accuracy: 0.8681 - 9s/epoch - 328ms/step\n",
      "Epoch 37/100\n",
      "Restoring model weights from the end of the best epoch: 17.\n",
      "28/28 - 9s - loss: 0.1527 - accuracy: 0.9462 - val_loss: 0.4964 - val_accuracy: 0.8252 - 9s/epoch - 330ms/step\n",
      "Epoch 37: early stopping\n"
     ]
    }
   ],
   "source": [
    "Early_callback = EarlyStopping(monitor='val_loss', patience=20, mode='min', verbose=1, restore_best_weights=True, min_delta=0.0001)\n",
    "hist = MLP.fit(x=X_trainrs, y=y_train, epochs=100, validation_data=(X_validationrs, y_validation), verbose=2, batch_size=1000, callbacks=[Early_callback])"
   ]
  },
  {
   "cell_type": "code",
   "execution_count": 103,
   "metadata": {},
   "outputs": [
    {
     "data": {
      "image/png": "[encoded data removed]",
      "text/plain": [
       "<Figure size 640x480 with 1 Axes>"
      ]
     },
     "metadata": {},
     "output_type": "display_data"
    }
   ],
   "source": [
    "plotx = hist.history['loss']\n",
    "plotty = hist.history['val_loss']\n",
    "plt.plot(plotx)\n",
    "plt.plot(plotty)\n",
    "plt.xlabel('Epochs')\n",
    "plt.ylabel('Loss')\n",
    "plt.legend(['Train', 'Validation'])\n",
    "plt.show()"
   ]
  },
  {
   "cell_type": "code",
   "execution_count": 104,
   "metadata": {},
   "outputs": [],
   "source": [
    "# y_predtrain = MLP.predict(X_trainrs, verbose=0)\n",
    "# y_predtrain = np.argmax(y_predtrain, axis=1)\n",
    "# cm2 = confusion_matrix(np.argmax(y_train, axis=1), y_predtrain)\n",
    "# disp2 = ConfusionMatrixDisplay(confusion_matrix=cm2, display_labels=[0,1])\n",
    "# disp2.plot()\n",
    "# plt.show()\n",
    "# print(\"F1 ->\", f1_score(np.argmax(y_train, axis=1), y_predtrain))"
   ]
  },
  {
   "cell_type": "code",
   "execution_count": 105,
   "metadata": {},
   "outputs": [
    {
     "name": "stdout",
     "output_type": "stream",
     "text": [
      "40/40 [==============================] - 0s 7ms/step - loss: 0.3337 - accuracy: 0.8145\n",
      "F1 -> 0.5572519083969465\n",
      "Balanced ACC -> 0.8058300395256917\n",
      "[[873 194]\n",
      " [ 38 146]]\n"
     ]
    }
   ],
   "source": [
    "from sklearn.metrics import f1_score\n",
    "y_pred = MLP.predict(X_testrs, verbose=0)\n",
    "y_pred = np.argmax(y_pred, axis=1)\n",
    "MLP.evaluate(X_testrs, y_test, verbose=1)\n",
    "y_comp = np.argmax(y_test, axis=1)\n",
    "print(\"F1 ->\", f1_score(y_comp, y_pred))\n",
    "print(\"Balanced ACC ->\", balanced_accuracy_score(y_comp, y_pred))\n",
    "cm = confusion_matrix(y_comp, y_pred)\n",
    "print(cm)"
   ]
  },
  {
   "cell_type": "code",
   "execution_count": 117,
   "metadata": {},
   "outputs": [
    {
     "name": "stdout",
     "output_type": "stream",
     "text": [
      "56/56 [==============================] - 0s 6ms/step\n",
      "[[1. 0.]\n",
      " [1. 0.]\n",
      " [1. 0.]\n",
      " ...\n",
      " [1. 0.]\n",
      " [1. 0.]\n",
      " [1. 0.]]\n"
     ]
    }
   ],
   "source": [
    "xfinal = np.load(\"Dados/Xtest_Classification1.npy\") \n",
    "xfinal1 = xfinal.reshape(-1, 28,28,3)\n",
    "\n",
    "yfinal = MLP.predict(xfinal1)\n",
    "#yfinal = to_categorical(yfinal,1)\n",
    "print(yfinal)\n",
    "np.save(\"Dados/ytest_Classification1\", yfinal)"
   ]
  },
  {
   "cell_type": "code",
   "execution_count": 111,
   "metadata": {},
   "outputs": [
    {
     "data": {
      "text/plain": [
       "232"
      ]
     },
     "execution_count": 111,
     "metadata": {},
     "output_type": "execute_result"
    }
   ],
   "source": [
    "counter = 0\n",
    "for i in range(len(y_comp)):\n",
    "    if(y_pred[i] != y_comp[i]):\n",
    "        #print(i, \"\\t\", y_pred[i], \"\\t\", y_test[i])\n",
    "        counter+=1\n",
    "counter"
   ]
  },
  {
   "cell_type": "code",
   "execution_count": 112,
   "metadata": {},
   "outputs": [
    {
     "data": {
      "image/png": "[encoded data removed]",
      "text/plain": [
       "<Figure size 640x480 with 2 Axes>"
      ]
     },
     "metadata": {},
     "output_type": "display_data"
    }
   ],
   "source": [
    "cm = confusion_matrix(y_comp, y_pred)\n",
    "disp = ConfusionMatrixDisplay(confusion_matrix=cm, display_labels=[0,1])\n",
    "disp.plot()\n",
    "plt.show()\n"
   ]
  },
  {
   "cell_type": "markdown",
   "metadata": {},
   "source": [
    "# Valores finais a prever"
   ]
  },
  {
   "cell_type": "code",
   "execution_count": 113,
   "metadata": {},
   "outputs": [],
   "source": [
    "# X_testfinal = np.load(\"Dados/Xtest_Classification1.npy\")\n",
    "# X_testfinal = X_testfinal.astype('float32')/255.0\n",
    "# X_testfinal = X_testfinal.reshape(-1, 28,28,3)  \n",
    "# y_final = MLP.predict(X_testfinal, verbose=0)\n",
    "# y_final = np.argmax(y_final, axis=1)\n",
    "# np.save(\"Dados/ytest_Classification1.npy\", y_final)\n"
   ]
  },
  {
   "cell_type": "code",
   "execution_count": 114,
   "metadata": {},
   "outputs": [],
   "source": [
    "# counter1 = 0\n",
    "# counter0 = 0\n",
    "# for i in y_final:\n",
    "#     if i == 1: \n",
    "#         counter1 += 1\n",
    "#     if i == 0:\n",
    "#         counter0 +=1\n",
    "# print(counter0)\n",
    "# print(counter1)"
   ]
  },
  {
   "cell_type": "code",
   "execution_count": null,
   "metadata": {},
   "outputs": [],
   "source": []
  }
 ],
 "metadata": {
  "kernelspec": {
   "display_name": "Python 3",
   "language": "python",
   "name": "python3"
  },
  "language_info": {
   "codemirror_mode": {
    "name": "ipython",
    "version": 3
   },
   "file_extension": ".py",
   "mimetype": "text/x-python",
   "name": "python",
   "nbconvert_exporter": "python",
   "pygments_lexer": "ipython3",
   "version": "3.11.5"
  }
 },
 "nbformat": 4,
 "nbformat_minor": 2
}
