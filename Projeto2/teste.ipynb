{
 "cells": [
  {
   "cell_type": "code",
   "execution_count": 219,
   "metadata": {},
   "outputs": [],
   "source": [
    "import numpy as np\n",
    "import matplotlib.pyplot as plt\n",
    "from sklearn.preprocessing import StandardScaler, MinMaxScaler\n",
    "from keras.models import Sequential\n",
    "from keras.callbacks import EarlyStopping\n",
    "from keras.layers import Dense, Convolution2D, MaxPooling2D, Flatten, BatchNormalization, Dropout, Activation\n",
    "from sklearn.model_selection import train_test_split\n",
    "from sklearn.metrics import confusion_matrix, ConfusionMatrixDisplay\n",
    "import sklearn.metrics as metrics\n",
    "from keras.optimizers import Adam\n",
    "from keras.utils import to_categorical\n",
    "import tensorflow as tf\n",
    "from sklearn.metrics import balanced_accuracy_score\n",
    "import cv2\n",
    "from icecream import ic\n",
    "from imblearn.over_sampling import RandomOverSampler, SMOTE\n",
    "from tensorflow.keras.regularizers import l2"
   ]
  },
  {
   "cell_type": "markdown",
   "metadata": {},
   "source": [
    "# DADOS"
   ]
  },
  {
   "cell_type": "code",
   "execution_count": 79,
   "metadata": {},
   "outputs": [],
   "source": [
    "xt = np.load(\"Dados/Xtrain_Classification1.npy\") \n",
    "yt = np.load(\"Dados/ytrain_Classification1.npy\")\n",
    "# scalerx = MinMaxScaler().fit(xt)\n",
    "# xScaled = scalerx.transform(xt)\n",
    "# scalerx = StandardScaler().fit(xt)\n",
    "# xScaled = scalerx.transform(xt)\n",
    "xScaled =  (xt).astype('float32')/255.0\n",
    "# oi = (xt).reshape(-1,28,28,3)\n",
    "# for i in oi[0:1]:\n",
    "#     plt.imshow(i)\n",
    "#     plt.show()\n",
    "# oi = (xScaled).reshape(-1,28,28,3)\n",
    "# for i in oi[0:1]:\n",
    "#     plt.imshow(i)\n",
    "#     plt.show()"
   ]
  },
  {
   "cell_type": "code",
   "execution_count": 80,
   "metadata": {},
   "outputs": [],
   "source": [
    "X_train, X_test, y_train, y_test = train_test_split(xScaled, yt, test_size=0.2, shuffle=True, random_state=10)\n",
    "X_train, X_validation, y_train, y_validation = train_test_split(X_train, y_train, test_size=0.2, shuffle=True, random_state=10)\n",
    "\n",
    "# sm = SMOTE(random_state = 2) \n",
    "# X_train, y_train = sm.fit_resample(X_train, y_train) \n",
    "\n",
    "\n",
    "# print(y_train)\n",
    "  \n",
    "# print(\"After OverSampling, counts of label '1': {}\".format(sum(y_train == 1))) \n",
    "# print(\"After OverSampling, counts of label '0': {}\".format(sum(y_train == 0))) \n",
    "# y_train = to_categorical(y_train,2)\n",
    "# X_testrs = X_test.reshape(-1, 28,28,3)\n",
    "# X_trainrs = X_train.reshape(-1, 28,28,3)\n",
    "# X_validationrs = X_validation.reshape(-1, 28,28,3)"
   ]
  },
  {
   "cell_type": "code",
   "execution_count": 81,
   "metadata": {},
   "outputs": [],
   "source": [
    "X_testrs = X_test.reshape(-1, 28,28,3)\n",
    "X_trainrs = X_train.reshape(-1, 28,28,3)\n",
    "X_validationrs = X_validation.reshape(-1, 28,28,3)\n",
    "addx = np.array([])\n",
    "addy = np.array([]) \n",
    "for idx, i in enumerate(y_train):\n",
    "        for l in range(3):\n",
    "            if l == 0:\n",
    "                if not np.any(addx):\n",
    "                    addx = np.expand_dims(cv2.rotate(X_trainrs[idx], cv2.ROTATE_90_COUNTERCLOCKWISE), axis=0)\n",
    "                    addy = np.append(addy,i)\n",
    "                else:\n",
    "                    aux = np.expand_dims(cv2.rotate(X_trainrs[idx], cv2.ROTATE_90_COUNTERCLOCKWISE), axis=0)\n",
    "                    addx = np.append(addx,aux,axis=0)\n",
    "                    addy = np.append(addy,i)\n",
    "                   \n",
    "            elif l == 1:\n",
    "                aux = np.expand_dims(cv2.rotate(X_trainrs[idx], cv2.ROTATE_90_CLOCKWISE), axis=0) \n",
    "                addx = np.append(addx,aux,axis=0)\n",
    "                addy = np.append(addy,i)\n",
    "            \n",
    "            elif l == 2:\n",
    "                aux = np.expand_dims(cv2.rotate(X_trainrs[idx],  cv2.ROTATE_180), axis=0) \n",
    "                addx = np.append(addx,aux,axis=0)\n",
    "                addy = np.append(addy,i)\n",
    "\n",
    "X_trainrs = np.append(X_trainrs,addx,axis=0) \n",
    "y_train = np.append(y_train,addy)\n",
    "\n",
    "# counter1 = 0\n",
    "# counter0 = 0\n",
    "# for i in y_train:\n",
    "#     if i[1] == 1: \n",
    "#         counter1 += 1\n",
    "#     if i[1] == 0:\n",
    "#         counter0 +=1\n",
    "\n",
    "# print(counter1)\n",
    "# print(counter0)\n",
    "\n"
   ]
  },
  {
   "cell_type": "code",
   "execution_count": 82,
   "metadata": {},
   "outputs": [],
   "source": [
    "# counterx=0\n",
    "# countery=0\n",
    "# increment = 4\n",
    "# add = []\n",
    "# for idx, i in enumerate(y_train):\n",
    "#         if i == 1:\n",
    "#             counterx += increment\n",
    "#             for k in range(0, increment-1):\n",
    "#                 y_train = np.append(y_train, i)\n",
    "#                 add = np.append(add, X_train[idx, :])\n",
    "#         else: \n",
    "#              countery += 1\n",
    "# X_train = np.append(X_train, add)\n",
    "# print(counterx/(counterx+countery), countery/(counterx+countery), counterx, countery)\n",
    "X_trainrs = X_trainrs.reshape(-1, 28*28*3)  \n",
    "oversample = RandomOverSampler(sampling_strategy='minority')\n",
    "X_trainrs, y_train = oversample.fit_resample(X_trainrs, y_train)\n",
    "X_trainrs = X_trainrs.reshape(-1, 28,28,3)\n",
    "y_train = to_categorical(y_train,2)\n",
    "y_validation = to_categorical(y_validation,2)\n",
    "y_test = to_categorical(y_test,2)\n"
   ]
  },
  {
   "cell_type": "code",
   "execution_count": 83,
   "metadata": {},
   "outputs": [],
   "source": [
    "# X_testrs = X_test.reshape(-1, 28,28,3)\n",
    "# X_trainrs = X_train.reshape(-1, 28,28,3)\n",
    "# X_validationrs = X_validation.reshape(-1, 28,28,3)\n",
    "# from scipy.ndimage import rotate\n",
    "# angle = [90, 180, 270]\n",
    "# for idx,i in enumerate(X_trainrs):\n",
    "#     if y_train[idx] == 1:\n",
    "#         for ang in angle:\n",
    "#             X_trainrs = np.vstack((X_trainrs, rotate(i, ang, reshape=False).reshape(-1,28,28,3)))\n",
    "#             y_train = np.append(y_train,y_train[idx])\n",
    "# y_train = to_categorical(y_train,2)\n",
    "# y_validation = to_categorical(y_validation,2)\n",
    "# counter1 = 0\n",
    "# counter0 = 0\n",
    "# for i in y_train:\n",
    "#     if i[1] == 1: \n",
    "#         counter1 += 1\n",
    "#     if i[1] == 0:\n",
    "#         counter0 +=1\n",
    "# print(counter1)\n",
    "# print(counter0)"
   ]
  },
  {
   "cell_type": "markdown",
   "metadata": {},
   "source": [
    "# Apenas para ver as imagens"
   ]
  },
  {
   "cell_type": "code",
   "execution_count": 84,
   "metadata": {},
   "outputs": [
    {
     "data": {
      "image/png": "[encoded data removed]",
      "text/plain": [
       "<Figure size 640x480 with 1 Axes>"
      ]
     },
     "metadata": {},
     "output_type": "display_data"
    },
    {
     "data": {
      "image/png": "[encoded data removed]",
      "text/plain": [
       "<Figure size 640x480 with 1 Axes>"
      ]
     },
     "metadata": {},
     "output_type": "display_data"
    },
    {
     "name": "stdout",
     "output_type": "stream",
     "text": [
      "[[0. 1.]\n",
      " [0. 1.]]\n"
     ]
    }
   ],
   "source": [
    "oi = X_trainrs\n",
    "for i in oi[-2:]:\n",
    "    plt.imshow(i)\n",
    "    plt.show()\n",
    "print(y_train[-2:])"
   ]
  },
  {
   "cell_type": "markdown",
   "metadata": {},
   "source": [
    "# Código da Neural Network"
   ]
  },
  {
   "cell_type": "code",
   "execution_count": 376,
   "metadata": {},
   "outputs": [],
   "source": [
    "# MLP = Sequential()\n",
    "# MLP.add(Convolution2D(16, kernel_size = 3, activation='relu', input_shape=(28, 28, 3), padding='same'))\n",
    "# MLP.add(MaxPooling2D((2, 2), strides=2))\n",
    "# MLP.add(Convolution2D(32, kernel_size = 3, activation='relu', padding='same'))\n",
    "# MLP.add(MaxPooling2D((2, 2), strides=2))\n",
    "# MLP.add(Convolution2D(32, kernel_size = 7, activation='relu', padding='same'))\n",
    "# MLP.add(MaxPooling2D((2, 2), strides=2))\n",
    "# MLP.add(Flatten())\n",
    "# MLP.add(Dense(64, activation='relu'))\n",
    "# MLP.add(Dense(32, activation='relu'))\n",
    "# MLP.add(Dropout(0.5))\n",
    "# MLP.add(Dense(64, activation='relu'))\n",
    "# MLP.add(Dropout(0.8))\n",
    "# MLP.add(Dense(2, activation='softmax'))\n",
    "\n",
    "\n",
    "MLP = Sequential()\n",
    "MLP.add(Convolution2D(16, kernel_size = 3, activation='relu', input_shape=(28, 28, 3), padding='same'))\n",
    "MLP.add(MaxPooling2D((2, 2), strides=2))\n",
    "MLP.add(Convolution2D(32, kernel_size = 3, activation='relu', padding='same'))\n",
    "MLP.add(MaxPooling2D((2, 2), strides=2))\n",
    "MLP.add(Convolution2D(32, kernel_size = 7, activation='relu', padding='same'))\n",
    "MLP.add(MaxPooling2D((2, 2), strides=2))\n",
    "MLP.add(Flatten())\n",
    "MLP.add(Dense(128, activation='relu'))\n",
    "MLP.add(Dropout(0.5))\n",
    "MLP.add(Dense(64, activation='relu'))\n",
    "MLP.add(Dense(32, activation='relu'))\n",
    "MLP.add(Dropout(0.3))\n",
    "MLP.add(Dense(2, activation='softmax'))"
   ]
  },
  {
   "cell_type": "code",
   "execution_count": 377,
   "metadata": {},
   "outputs": [],
   "source": [
    "# MLP = Sequential()\n",
    "# MLP.add(Dense(64,input_dim=28*28*3, activation='relu'))\n",
    "# MLP.add(Dense(32, activation='relu'))\n",
    "# MLP.add(Dense(2, activation='softmax'))\n",
    "# X_trainrs = X_train.reshape(-1, 28*28*3)\n",
    "# X_validationrs = X_validation\n",
    "# X_testrs = X_test"
   ]
  },
  {
   "cell_type": "code",
   "execution_count": 378,
   "metadata": {},
   "outputs": [
    {
     "name": "stdout",
     "output_type": "stream",
     "text": [
      "Model: \"sequential_47\"\n",
      "_________________________________________________________________\n",
      " Layer (type)                Output Shape              Param #   \n",
      "=================================================================\n",
      " conv2d_121 (Conv2D)         (None, 28, 28, 16)        448       \n",
      "                                                                 \n",
      " max_pooling2d_114 (MaxPool  (None, 14, 14, 16)        0         \n",
      " ing2D)                                                          \n",
      "                                                                 \n",
      " conv2d_122 (Conv2D)         (None, 14, 14, 32)        4640      \n",
      "                                                                 \n",
      " max_pooling2d_115 (MaxPool  (None, 7, 7, 32)          0         \n",
      " ing2D)                                                          \n",
      "                                                                 \n",
      " conv2d_123 (Conv2D)         (None, 7, 7, 32)          50208     \n",
      "                                                                 \n",
      " max_pooling2d_116 (MaxPool  (None, 3, 3, 32)          0         \n",
      " ing2D)                                                          \n",
      "                                                                 \n",
      " flatten_41 (Flatten)        (None, 288)               0         \n",
      "                                                                 \n",
      " dense_141 (Dense)           (None, 128)               36992     \n",
      "                                                                 \n",
      " dropout_53 (Dropout)        (None, 128)               0         \n",
      "                                                                 \n",
      " dense_142 (Dense)           (None, 64)                8256      \n",
      "                                                                 \n",
      " dense_143 (Dense)           (None, 32)                2080      \n",
      "                                                                 \n",
      " dropout_54 (Dropout)        (None, 32)                0         \n",
      "                                                                 \n",
      " dense_144 (Dense)           (None, 2)                 66        \n",
      "                                                                 \n",
      "=================================================================\n",
      "Total params: 102690 (401.13 KB)\n",
      "Trainable params: 102690 (401.13 KB)\n",
      "Non-trainable params: 0 (0.00 Byte)\n",
      "_________________________________________________________________\n"
     ]
    }
   ],
   "source": [
    "MLP.summary()"
   ]
  },
  {
   "cell_type": "code",
   "execution_count": 379,
   "metadata": {},
   "outputs": [],
   "source": [
    "# learning_rate_schedule = tf.keras.optimizers.schedules.ExponentialDecay(\n",
    "#     initial_learning_rate=0.0001,\n",
    "#     decay_steps=10000,\n",
    "#     decay_rate=0.96\n",
    "# )\n",
    "# lr_callback = tf.keras.callbacks.ReduceLROnPlateau(\n",
    "#     monitor='val_loss',\n",
    "#     factor=0.8,\n",
    "#     patience=4,\n",
    "#     min_lr=0.0001\n",
    "# )\n",
    "MLP.compile(optimizer=Adam(learning_rate=0.001), loss='categorical_crossentropy', metrics=['accuracy'])\n"
   ]
  },
  {
   "cell_type": "code",
   "execution_count": 380,
   "metadata": {},
   "outputs": [
    {
     "name": "stdout",
     "output_type": "stream",
     "text": [
      "Epoch 1/75\n",
      "108/108 - 15s - loss: 0.5564 - accuracy: 0.7043 - val_loss: 0.4960 - val_accuracy: 0.6254 - 15s/epoch - 135ms/step\n",
      "Epoch 2/75\n",
      "108/108 - 14s - loss: 0.4740 - accuracy: 0.7621 - val_loss: 0.4314 - val_accuracy: 0.7233 - 14s/epoch - 126ms/step\n",
      "Epoch 3/75\n",
      "108/108 - 14s - loss: 0.4333 - accuracy: 0.7894 - val_loss: 0.5004 - val_accuracy: 0.6863 - 14s/epoch - 126ms/step\n",
      "Epoch 4/75\n",
      "108/108 - 14s - loss: 0.4243 - accuracy: 0.7987 - val_loss: 0.4633 - val_accuracy: 0.7373 - 14s/epoch - 127ms/step\n",
      "Epoch 5/75\n",
      "108/108 - 13s - loss: 0.3978 - accuracy: 0.8125 - val_loss: 0.4475 - val_accuracy: 0.7183 - 13s/epoch - 124ms/step\n",
      "Epoch 6/75\n",
      "108/108 - 13s - loss: 0.3731 - accuracy: 0.8260 - val_loss: 0.3858 - val_accuracy: 0.8002 - 13s/epoch - 119ms/step\n",
      "Epoch 7/75\n",
      "108/108 - 13s - loss: 0.3578 - accuracy: 0.8345 - val_loss: 0.3443 - val_accuracy: 0.8302 - 13s/epoch - 118ms/step\n",
      "Epoch 8/75\n",
      "108/108 - 13s - loss: 0.3438 - accuracy: 0.8430 - val_loss: 0.4082 - val_accuracy: 0.7892 - 13s/epoch - 118ms/step\n",
      "Epoch 9/75\n",
      "108/108 - 13s - loss: 0.3419 - accuracy: 0.8441 - val_loss: 0.3267 - val_accuracy: 0.8372 - 13s/epoch - 124ms/step\n",
      "Epoch 10/75\n",
      "108/108 - 13s - loss: 0.3121 - accuracy: 0.8628 - val_loss: 0.3414 - val_accuracy: 0.8432 - 13s/epoch - 124ms/step\n",
      "Epoch 11/75\n",
      "108/108 - 13s - loss: 0.3049 - accuracy: 0.8674 - val_loss: 0.4434 - val_accuracy: 0.7852 - 13s/epoch - 120ms/step\n",
      "Epoch 12/75\n",
      "108/108 - 13s - loss: 0.2798 - accuracy: 0.8811 - val_loss: 0.3635 - val_accuracy: 0.8541 - 13s/epoch - 123ms/step\n",
      "Epoch 13/75\n",
      "108/108 - 13s - loss: 0.2698 - accuracy: 0.8879 - val_loss: 0.3426 - val_accuracy: 0.8561 - 13s/epoch - 117ms/step\n",
      "Epoch 14/75\n",
      "108/108 - 13s - loss: 0.2574 - accuracy: 0.8928 - val_loss: 0.4694 - val_accuracy: 0.7952 - 13s/epoch - 120ms/step\n",
      "Epoch 15/75\n",
      "108/108 - 13s - loss: 0.2437 - accuracy: 0.8999 - val_loss: 0.3818 - val_accuracy: 0.8282 - 13s/epoch - 124ms/step\n",
      "Epoch 16/75\n",
      "108/108 - 13s - loss: 0.2360 - accuracy: 0.9044 - val_loss: 0.3796 - val_accuracy: 0.8432 - 13s/epoch - 118ms/step\n",
      "Epoch 17/75\n",
      "108/108 - 13s - loss: 0.2177 - accuracy: 0.9119 - val_loss: 0.4535 - val_accuracy: 0.8452 - 13s/epoch - 124ms/step\n",
      "Epoch 18/75\n",
      "108/108 - 13s - loss: 0.1929 - accuracy: 0.9258 - val_loss: 0.4062 - val_accuracy: 0.8531 - 13s/epoch - 120ms/step\n",
      "Epoch 19/75\n",
      "Restoring model weights from the end of the best epoch: 9.\n",
      "108/108 - 13s - loss: 0.1907 - accuracy: 0.9261 - val_loss: 0.4462 - val_accuracy: 0.8601 - 13s/epoch - 122ms/step\n",
      "Epoch 19: early stopping\n"
     ]
    }
   ],
   "source": [
    "Early_callback = EarlyStopping(monitor='val_loss', patience=10, mode='min', verbose=1, restore_best_weights=True, min_delta=0.0001)\n",
    "hist = MLP.fit(x=X_trainrs, y=y_train, epochs=75, validation_data=(X_validationrs, y_validation), verbose=2, batch_size=256, callbacks=[Early_callback])"
   ]
  },
  {
   "cell_type": "code",
   "execution_count": 381,
   "metadata": {},
   "outputs": [
    {
     "data": {
      "image/png": "[encoded data removed]",
      "text/plain": [
       "<Figure size 640x480 with 1 Axes>"
      ]
     },
     "metadata": {},
     "output_type": "display_data"
    }
   ],
   "source": [
    "plotx = hist.history['loss']\n",
    "plotty = hist.history['val_loss']\n",
    "plt.plot(plotx)\n",
    "plt.plot(plotty)\n",
    "plt.xlabel('Epochs')\n",
    "plt.ylabel('Loss')\n",
    "plt.legend(['Train', 'Validation'])\n",
    "plt.show()"
   ]
  },
  {
   "cell_type": "code",
   "execution_count": 382,
   "metadata": {},
   "outputs": [],
   "source": [
    "# y_predtrain = MLP.predict(X_trainrs, verbose=0)\n",
    "# y_predtrain = np.argmax(y_predtrain, axis=1)\n",
    "# cm2 = confusion_matrix(np.argmax(y_train, axis=1), y_predtrain)\n",
    "# disp2 = ConfusionMatrixDisplay(confusion_matrix=cm2, display_labels=[0,1])\n",
    "# disp2.plot()\n",
    "# plt.show()\n",
    "# print(\"F1 ->\", f1_score(np.argmax(y_train, axis=1), y_predtrain))"
   ]
  },
  {
   "cell_type": "code",
   "execution_count": 391,
   "metadata": {},
   "outputs": [
    {
     "name": "stdout",
     "output_type": "stream",
     "text": [
      "40/40 [==============================] - 0s 6ms/step - loss: 0.3612 - accuracy: 0.8050\n",
      "F1 -> 0.5464684014869888\n",
      "Balanced ACC -> 0.8024555845320076\n",
      "[[860 207]\n",
      " [ 37 147]]\n"
     ]
    },
    {
     "data": {
      "text/plain": [
       "(1251, 28, 28, 3)"
      ]
     },
     "execution_count": 391,
     "metadata": {},
     "output_type": "execute_result"
    }
   ],
   "source": [
    "from sklearn.metrics import f1_score\n",
    "y_pred = MLP.predict(X_testrs, verbose=0)\n",
    "y_pred = np.argmax(y_pred, axis=1)\n",
    "MLP.evaluate(X_testrs, y_test, verbose=1)\n",
    "y_comp = np.argmax(y_test, axis=1)\n",
    "print(\"F1 ->\", f1_score(y_comp, y_pred))\n",
    "print(\"Balanced ACC ->\", balanced_accuracy_score(y_comp, y_pred))\n",
    "cm = confusion_matrix(y_comp, y_pred)\n",
    "print(cm)"
   ]
  },
  {
   "cell_type": "code",
   "execution_count": 384,
   "metadata": {},
   "outputs": [
    {
     "data": {
      "text/plain": [
       "244"
      ]
     },
     "execution_count": 384,
     "metadata": {},
     "output_type": "execute_result"
    }
   ],
   "source": [
    "counter = 0\n",
    "for i in range(len(y_comp)):\n",
    "    if(y_pred[i] != y_comp[i]):\n",
    "        #print(i, \"\\t\", y_pred[i], \"\\t\", y_test[i])\n",
    "        counter+=1\n",
    "counter"
   ]
  },
  {
   "cell_type": "code",
   "execution_count": 385,
   "metadata": {},
   "outputs": [
    {
     "data": {
      "image/png": "[encoded data removed]",
      "text/plain": [
       "<Figure size 640x480 with 2 Axes>"
      ]
     },
     "metadata": {},
     "output_type": "display_data"
    }
   ],
   "source": [
    "cm = confusion_matrix(y_comp, y_pred)\n",
    "disp = ConfusionMatrixDisplay(confusion_matrix=cm, display_labels=[0,1])\n",
    "disp.plot()\n",
    "plt.show()\n"
   ]
  },
  {
   "cell_type": "code",
   "execution_count": 392,
   "metadata": {},
   "outputs": [],
   "source": [
    "X_testfinal = np.load(\"Dados/Xtest_Classification1.npy\")\n",
    "X_testfinal = X_testfinal.astype('float32')/255.0\n",
    "X_testfinal = X_testfinal.reshape(-1, 28,28,3)  \n",
    "y_final = MLP.predict(X_testfinal, verbose=0)\n",
    "y_final = np.argmax(y_final, axis=1)\n",
    "np.save(\"Dados/ytest_Classification1.npy\", y_final)\n"
   ]
  },
  {
   "cell_type": "code",
   "execution_count": 394,
   "metadata": {},
   "outputs": [
    {
     "name": "stdout",
     "output_type": "stream",
     "text": [
      "1205\n",
      "559\n"
     ]
    }
   ],
   "source": [
    "counter1 = 0\n",
    "counter0 = 0\n",
    "for i in y_final:\n",
    "    if i == 1: \n",
    "        counter1 += 1\n",
    "    if i == 0:\n",
    "        counter0 +=1\n",
    "print(counter0)\n",
    "print(counter1)"
   ]
  },
  {
   "cell_type": "code",
   "execution_count": null,
   "metadata": {},
   "outputs": [],
   "source": []
  }
 ],
 "metadata": {
  "kernelspec": {
   "display_name": "Python 3",
   "language": "python",
   "name": "python3"
  },
  "language_info": {
   "codemirror_mode": {
    "name": "ipython",
    "version": 3
   },
   "file_extension": ".py",
   "mimetype": "text/x-python",
   "name": "python",
   "nbconvert_exporter": "python",
   "pygments_lexer": "ipython3",
   "version": "3.10.8"
  }
 },
 "nbformat": 4,
 "nbformat_minor": 2
}
