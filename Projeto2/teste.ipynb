{
 "cells": [
  {
   "cell_type": "code",
   "execution_count": 113,
   "metadata": {},
   "outputs": [],
   "source": [
    "import numpy as np\n",
    "import matplotlib.pyplot as plt\n",
    "from sklearn.preprocessing import StandardScaler, MinMaxScaler\n",
    "from keras.models import Sequential\n",
    "from keras.callbacks import EarlyStopping\n",
    "from keras.layers import Dense, Convolution2D, MaxPooling2D, Flatten, BatchNormalization, Dropout\n",
    "from sklearn.model_selection import train_test_split\n",
    "from sklearn.metrics import confusion_matrix, ConfusionMatrixDisplay\n",
    "import sklearn.metrics as metrics\n",
    "from keras.optimizers import Adam\n",
    "from keras.utils import to_categorical\n",
    "import tensorflow as tf\n",
    "from sklearn.metrics import balanced_accuracy_score\n",
    "import cv2"
   ]
  },
  {
   "cell_type": "markdown",
   "metadata": {},
   "source": [
    "# DADOS"
   ]
  },
  {
   "cell_type": "code",
   "execution_count": 114,
   "metadata": {},
   "outputs": [],
   "source": [
    "xt = np.load(\"Dados/Xtrain_Classification1.npy\") \n",
    "yt = np.load(\"Dados/ytrain_Classification1.npy\")\n",
    "#yt = to_categorical(yt,2)\n",
    "\n",
    "\n",
    "scalerx = MinMaxScaler().fit(xt)\n",
    "xScaled = scalerx.transform(xt)\n",
    "# scalerx = StandardScaler().fit(xt)\n",
    "# xScaled = scalerx.transform(xt)\n",
    "# oi = (xt).reshape(-1,28,28,3)\n",
    "# for i in oi[0:1]:\n",
    "#     plt.imshow(i)\n",
    "#     plt.show()\n",
    "# oi = (xScaled).reshape(-1,28,28,3)\n",
    "# for i in oi[0:1]:\n",
    "#     plt.imshow(i)\n",
    "#     plt.show()"
   ]
  },
  {
   "cell_type": "code",
   "execution_count": 115,
   "metadata": {},
   "outputs": [
    {
     "name": "stdout",
     "output_type": "stream",
     "text": [
      "[0. 0. 1. ... 0. 0. 0.]\n",
      "535\n",
      "3404\n",
      "(3939,)\n",
      "(3939, 28, 28, 3)\n",
      "(5544, 28, 28, 3)\n",
      "2140\n",
      "3404\n"
     ]
    }
   ],
   "source": [
    "X_train, X_test, y_train, y_test = train_test_split(xScaled, yt, test_size=0.1, shuffle=True, random_state=10)\n",
    "X_train, X_validation, y_train, y_validation = train_test_split(X_train, y_train, test_size=0.3, shuffle=True, random_state=10)\n",
    "\n",
    "from imblearn.over_sampling import SMOTE \n",
    "\n",
    "print(y_train)\n",
    "\n",
    "# sm = SMOTE(random_state = 2) \n",
    "# X_train, y_train = sm.fit_resample(X_train, y_train) \n",
    "\n",
    "\n",
    "# print(y_train)\n",
    "  \n",
    "# print(\"After OverSampling, counts of label '1': {}\".format(sum(y_train == 1))) \n",
    "# print(\"After OverSampling, counts of label '0': {}\".format(sum(y_train == 0))) \n",
    "# y_train = to_categorical(y_train,2)\n",
    "\n",
    "X_testrs = X_test.reshape(-1, 28,28,3)\n",
    "X_trainrs = X_train.reshape(-1, 28,28,3)\n",
    "X_validationrs = X_validation.reshape(-1, 28,28,3)\n",
    "counter1 = 0\n",
    "counter0 = 0\n",
    "for i in y_train:\n",
    "    if i == 1: \n",
    "        counter1 += 1\n",
    "    if i == 0:\n",
    "        counter0 +=1\n",
    "\n",
    "print(counter1)\n",
    "print(counter0)\n",
    "addx = np.array([])\n",
    "addy = np.array([]) \n",
    "counterx = 0\n",
    "print(y_train.shape)\n",
    "print(X_trainrs.shape)\n",
    "for idx, i in enumerate(y_train):\n",
    "    if i == 1:\n",
    "        for l in range(4):\n",
    "            if l == 0:\n",
    "                if not np.any(addx):\n",
    "                    addx = np.expand_dims(cv2.rotate(X_trainrs[idx], cv2.ROTATE_90_COUNTERCLOCKWISE), axis=0)\n",
    "                    addy = np.append(addy,i)\n",
    "                    \n",
    "\n",
    "                else:\n",
    "                    aux = np.expand_dims(cv2.rotate(X_trainrs[idx], cv2.ROTATE_90_COUNTERCLOCKWISE), axis=0)\n",
    "                    addx = np.append(addx,aux,axis=0)\n",
    "                    addy = np.append(addy,i)\n",
    "                   \n",
    "            elif l == 1:\n",
    "                aux = np.expand_dims(cv2.rotate(X_trainrs[idx], cv2.ROTATE_90_CLOCKWISE), axis=0) \n",
    "                addx = np.append(addx,aux,axis=0)\n",
    "                addy = np.append(addy,i)\n",
    "            \n",
    "            elif l == 2:\n",
    "                aux = np.expand_dims(cv2.rotate(X_trainrs[idx],  cv2.ROTATE_180), axis=0) \n",
    "                addx = np.append(addx,aux,axis=0)\n",
    "                addy = np.append(addy,i)\n",
    "\n",
    "X_trainrs = np.append(X_trainrs,addx,axis=0) \n",
    "y_train = np.append(y_train,addy)\n",
    "y_train = to_categorical(y_train,2)\n",
    "y_validation = to_categorical(y_validation,2)\n",
    "\n",
    "\n",
    "print(X_trainrs.shape)\n",
    "counter1 = 0\n",
    "counter0 = 0\n",
    "for i in y_train:\n",
    "    if i[1] == 1: \n",
    "        counter1 += 1\n",
    "    if i[1] == 0:\n",
    "        counter0 +=1\n",
    "\n",
    "print(counter1)\n",
    "print(counter0)\n",
    "\n",
    "# counterx=0\n",
    "# countery=0\n",
    "# increment = 4\n",
    "# add = []\n",
    "# for idx, i in enumerate(y_train):\n",
    "#         if i[1] == 1:\n",
    "#             counterx += increment\n",
    "#             for k in range(0, increment-1):\n",
    "#                 y_train = np.vstack((y_train, i))\n",
    "#                 add = np.append(add, X_train[idx, :])\n",
    "#         else: \n",
    "#              countery += 1\n",
    "# X_train = np.append(X_train, add)\n",
    "# print(counterx/(counterx+countery), countery/(counterx+countery), counterx, countery)"
   ]
  },
  {
   "cell_type": "markdown",
   "metadata": {},
   "source": [
    "# Apenas para ver as imagens"
   ]
  },
  {
   "cell_type": "code",
   "execution_count": 116,
   "metadata": {},
   "outputs": [
    {
     "data": {
      "image/png": "[encoded data removed]",
      "text/plain": [
       "<Figure size 640x480 with 1 Axes>"
      ]
     },
     "metadata": {},
     "output_type": "display_data"
    },
    {
     "name": "stdout",
     "output_type": "stream",
     "text": [
      "[[0. 1.]]\n"
     ]
    }
   ],
   "source": [
    "oi = X_train.reshape(-1,28,28,3)\n",
    "for i in oi[-1:]:\n",
    "    plt.imshow(i)\n",
    "    plt.show()\n",
    "print(y_train[-1:])"
   ]
  },
  {
   "cell_type": "markdown",
   "metadata": {},
   "source": [
    "# Código da Neural Network"
   ]
  },
  {
   "cell_type": "code",
   "execution_count": 117,
   "metadata": {},
   "outputs": [],
   "source": [
    "MLP = Sequential()\n",
    "MLP.add(Convolution2D(16, (3,3), input_shape=(28,28,3), activation='relu', padding='same'))\n",
    "MLP.add(MaxPooling2D(pool_size=(2, 2),strides=2))\n",
    "MLP.add(Convolution2D(32, (5,5),activation='relu', padding='same'))\n",
    "MLP.add(MaxPooling2D(pool_size=(2, 2),strides=2))\n",
    "MLP.add(Convolution2D(32, (3,3),activation='relu', padding='same'))\n",
    "MLP.add(MaxPooling2D(pool_size=(2, 2),strides=2))\n",
    "MLP.add(Flatten())\n",
    "MLP.add(Dense(64,activation='relu'))\n",
    "MLP.add(Dense(2, activation='softmax'))\n",
    "\n",
    "# cnn1 = Sequential([\n",
    "#     Conv2D(32, kernel_size=(3, 3), activation='relu',padding='same',input_shape=input_shape),\n",
    "#     Conv2D(32, kernel_size=(3, 3), activation='relu',padding='same'),\n",
    "#     MaxPooling2D(pool_size=(2, 2),strides=2),\n",
    "#     Dropout(0.2),\n",
    "#     Conv2D(64, kernel_size=(3, 3), activation='relu'),\n",
    "#     Conv2D(64, kernel_size=(3, 3), activation='relu'),\n",
    "#     BatchNormalization(),\n",
    "#     MaxPooling2D(pool_size=(2, 2),strides=2),\n",
    "#     Dropout(0.3),\n",
    "#     Flatten(),\n",
    "#     Dense(256, activation='relu'),\n",
    "#     BatchNormalization(),\n",
    "#     Dropout(0.7),\n",
    "#     Dense(10, activation='softmax')\n",
    "# ])"
   ]
  },
  {
   "cell_type": "code",
   "execution_count": 118,
   "metadata": {},
   "outputs": [],
   "source": [
    "# MLP = Sequential()\n",
    "# MLP.add(Dense(64,input_dim=28*28*3, activation='relu'))\n",
    "# MLP.add(Dense(32, activation='relu'))\n",
    "# MLP.add(Dense(2, activation='softmax'))\n",
    "#X_trainrs = X_train.reshape(-1, 28*28*3)"
   ]
  },
  {
   "cell_type": "code",
   "execution_count": 119,
   "metadata": {},
   "outputs": [
    {
     "name": "stdout",
     "output_type": "stream",
     "text": [
      "Model: \"sequential_4\"\n",
      "_________________________________________________________________\n",
      " Layer (type)                Output Shape              Param #   \n",
      "=================================================================\n",
      " conv2d_12 (Conv2D)          (None, 28, 28, 16)        448       \n",
      "                                                                 \n",
      " max_pooling2d_12 (MaxPooli  (None, 14, 14, 16)        0         \n",
      " ng2D)                                                           \n",
      "                                                                 \n",
      " conv2d_13 (Conv2D)          (None, 14, 14, 32)        4640      \n",
      "                                                                 \n",
      " max_pooling2d_13 (MaxPooli  (None, 7, 7, 32)          0         \n",
      " ng2D)                                                           \n",
      "                                                                 \n",
      " conv2d_14 (Conv2D)          (None, 7, 7, 64)          18496     \n",
      "                                                                 \n",
      " max_pooling2d_14 (MaxPooli  (None, 3, 3, 64)          0         \n",
      " ng2D)                                                           \n",
      "                                                                 \n",
      " flatten_4 (Flatten)         (None, 576)               0         \n",
      "                                                                 \n",
      " dense_12 (Dense)            (None, 128)               73856     \n",
      "                                                                 \n",
      " dense_13 (Dense)            (None, 64)                8256      \n",
      "                                                                 \n",
      " dense_14 (Dense)            (None, 2)                 130       \n",
      "                                                                 \n",
      "=================================================================\n",
      "Total params: 105826 (413.38 KB)\n",
      "Trainable params: 105826 (413.38 KB)\n",
      "Non-trainable params: 0 (0.00 Byte)\n",
      "_________________________________________________________________\n"
     ]
    }
   ],
   "source": [
    "MLP.summary()"
   ]
  },
  {
   "cell_type": "code",
   "execution_count": 120,
   "metadata": {},
   "outputs": [
    {
     "name": "stdout",
     "output_type": "stream",
     "text": [
      "(5544, 28, 28, 3)\n",
      "(5544, 2)\n",
      "(1689, 28, 28, 3)\n",
      "(1689, 2)\n"
     ]
    }
   ],
   "source": [
    "# learning_rate_schedule = tf.keras.optimizers.schedules.ExponentialDecay(\n",
    "#     initial_learning_rate=0.0001,\n",
    "#     decay_steps=10000,\n",
    "#     decay_rate=0.96\n",
    "# )\n",
    "lr_callback = tf.keras.callbacks.ReduceLROnPlateau(\n",
    "    monitor='val_loss',\n",
    "    factor=0.8,\n",
    "    patience=4,\n",
    "    min_lr=0.0001\n",
    ")\n",
    "MLP.compile(optimizer=Adam(learning_rate=0.001), loss='categorical_crossentropy', metrics=['accuracy', 'mse'])\n",
    "print(X_trainrs.shape)\n",
    "print(y_train.shape)\n",
    "print(X_validationrs.shape)\n",
    "print(y_validation.shape)\n"
   ]
  },
  {
   "cell_type": "code",
   "execution_count": 121,
   "metadata": {},
   "outputs": [
    {
     "name": "stdout",
     "output_type": "stream",
     "text": [
      "Epoch 1/50\n"
     ]
    },
    {
     "name": "stdout",
     "output_type": "stream",
     "text": [
      "174/174 - 3s - loss: 0.6029 - accuracy: 0.6407 - mse: 0.2110 - val_loss: 0.4601 - val_accuracy: 0.6430 - val_mse: 0.1632 - lr: 0.0010 - 3s/epoch - 20ms/step\n",
      "Epoch 2/50\n",
      "174/174 - 2s - loss: 0.4526 - accuracy: 0.7601 - mse: 0.1513 - val_loss: 0.3510 - val_accuracy: 0.8472 - val_mse: 0.1126 - lr: 0.0010 - 2s/epoch - 12ms/step\n",
      "Epoch 3/50\n",
      "174/174 - 2s - loss: 0.3614 - accuracy: 0.8433 - mse: 0.1141 - val_loss: 0.3241 - val_accuracy: 0.8413 - val_mse: 0.1062 - lr: 0.0010 - 2s/epoch - 12ms/step\n",
      "Epoch 4/50\n",
      "174/174 - 2s - loss: 0.2899 - accuracy: 0.8790 - mse: 0.0904 - val_loss: 0.3244 - val_accuracy: 0.8455 - val_mse: 0.1041 - lr: 0.0010 - 2s/epoch - 12ms/step\n",
      "Epoch 5/50\n",
      "174/174 - 2s - loss: 0.2545 - accuracy: 0.8923 - mse: 0.0787 - val_loss: 0.3289 - val_accuracy: 0.8567 - val_mse: 0.1061 - lr: 0.0010 - 2s/epoch - 13ms/step\n",
      "Epoch 6/50\n",
      "174/174 - 2s - loss: 0.2370 - accuracy: 0.9028 - mse: 0.0726 - val_loss: 0.3202 - val_accuracy: 0.8443 - val_mse: 0.1061 - lr: 0.0010 - 2s/epoch - 13ms/step\n",
      "Epoch 7/50\n",
      "174/174 - 2s - loss: 0.2247 - accuracy: 0.9053 - mse: 0.0694 - val_loss: 0.3266 - val_accuracy: 0.8490 - val_mse: 0.1049 - lr: 0.0010 - 2s/epoch - 14ms/step\n",
      "Epoch 8/50\n",
      "174/174 - 2s - loss: 0.2105 - accuracy: 0.9118 - mse: 0.0647 - val_loss: 0.3338 - val_accuracy: 0.8455 - val_mse: 0.1082 - lr: 0.0010 - 2s/epoch - 14ms/step\n",
      "Epoch 9/50\n",
      "174/174 - 2s - loss: 0.1970 - accuracy: 0.9192 - mse: 0.0599 - val_loss: 0.3242 - val_accuracy: 0.8508 - val_mse: 0.1043 - lr: 0.0010 - 2s/epoch - 13ms/step\n",
      "Epoch 10/50\n",
      "174/174 - 2s - loss: 0.1960 - accuracy: 0.9212 - mse: 0.0598 - val_loss: 0.3781 - val_accuracy: 0.8425 - val_mse: 0.1182 - lr: 0.0010 - 2s/epoch - 13ms/step\n",
      "Epoch 11/50\n",
      "174/174 - 2s - loss: 0.1887 - accuracy: 0.9217 - mse: 0.0579 - val_loss: 0.3150 - val_accuracy: 0.8668 - val_mse: 0.1002 - lr: 8.0000e-04 - 2s/epoch - 13ms/step\n",
      "Epoch 12/50\n",
      "174/174 - 2s - loss: 0.1706 - accuracy: 0.9293 - mse: 0.0519 - val_loss: 0.3148 - val_accuracy: 0.8549 - val_mse: 0.1007 - lr: 8.0000e-04 - 2s/epoch - 13ms/step\n",
      "Epoch 13/50\n",
      "174/174 - 2s - loss: 0.1691 - accuracy: 0.9316 - mse: 0.0512 - val_loss: 0.3381 - val_accuracy: 0.8437 - val_mse: 0.1096 - lr: 8.0000e-04 - 2s/epoch - 13ms/step\n",
      "Epoch 14/50\n",
      "174/174 - 2s - loss: 0.1697 - accuracy: 0.9306 - mse: 0.0516 - val_loss: 0.3030 - val_accuracy: 0.8650 - val_mse: 0.0962 - lr: 8.0000e-04 - 2s/epoch - 13ms/step\n",
      "Epoch 15/50\n",
      "174/174 - 2s - loss: 0.1564 - accuracy: 0.9349 - mse: 0.0476 - val_loss: 0.3204 - val_accuracy: 0.8573 - val_mse: 0.1022 - lr: 8.0000e-04 - 2s/epoch - 13ms/step\n",
      "Epoch 16/50\n",
      "174/174 - 3s - loss: 0.1472 - accuracy: 0.9419 - mse: 0.0439 - val_loss: 0.3759 - val_accuracy: 0.8443 - val_mse: 0.1146 - lr: 8.0000e-04 - 3s/epoch - 14ms/step\n",
      "Epoch 17/50\n",
      "174/174 - 2s - loss: 0.1531 - accuracy: 0.9392 - mse: 0.0459 - val_loss: 0.3439 - val_accuracy: 0.8686 - val_mse: 0.1017 - lr: 8.0000e-04 - 2s/epoch - 14ms/step\n",
      "Epoch 18/50\n",
      "174/174 - 2s - loss: 0.1391 - accuracy: 0.9450 - mse: 0.0414 - val_loss: 0.4014 - val_accuracy: 0.8307 - val_mse: 0.1237 - lr: 8.0000e-04 - 2s/epoch - 13ms/step\n",
      "Epoch 19/50\n",
      "174/174 - 2s - loss: 0.1264 - accuracy: 0.9509 - mse: 0.0370 - val_loss: 0.3325 - val_accuracy: 0.8697 - val_mse: 0.0993 - lr: 6.4000e-04 - 2s/epoch - 14ms/step\n",
      "Epoch 20/50\n",
      "174/174 - 2s - loss: 0.1289 - accuracy: 0.9495 - mse: 0.0383 - val_loss: 0.3723 - val_accuracy: 0.8585 - val_mse: 0.1087 - lr: 6.4000e-04 - 2s/epoch - 14ms/step\n",
      "Epoch 21/50\n",
      "174/174 - 2s - loss: 0.1272 - accuracy: 0.9486 - mse: 0.0374 - val_loss: 0.3489 - val_accuracy: 0.8620 - val_mse: 0.1038 - lr: 6.4000e-04 - 2s/epoch - 14ms/step\n",
      "Epoch 22/50\n",
      "174/174 - 2s - loss: 0.1192 - accuracy: 0.9538 - mse: 0.0351 - val_loss: 0.4056 - val_accuracy: 0.8549 - val_mse: 0.1155 - lr: 6.4000e-04 - 2s/epoch - 13ms/step\n",
      "Epoch 23/50\n",
      "Restoring model weights from the end of the best epoch: 14.\n",
      "174/174 - 2s - loss: 0.1033 - accuracy: 0.9605 - mse: 0.0303 - val_loss: 0.3611 - val_accuracy: 0.8620 - val_mse: 0.1045 - lr: 5.1200e-04 - 2s/epoch - 14ms/step\n",
      "Epoch 23: early stopping\n"
     ]
    }
   ],
   "source": [
    "Early_callback = EarlyStopping(monitor='val_loss', patience=9, mode='min', verbose=1, restore_best_weights=True, min_delta=0.0001)\n",
    "hist = MLP.fit(x=X_trainrs, y=y_train, epochs=50, validation_data=(X_validationrs, y_validation), verbose=2, batch_size=32, callbacks=[lr_callback, Early_callback])"
   ]
  },
  {
   "cell_type": "code",
   "execution_count": 122,
   "metadata": {},
   "outputs": [
    {
     "data": {
      "image/png": "[encoded data removed]",
      "text/plain": [
       "<Figure size 640x480 with 1 Axes>"
      ]
     },
     "metadata": {},
     "output_type": "display_data"
    }
   ],
   "source": [
    "plotx = hist.history['loss']\n",
    "plotty = hist.history['val_loss']\n",
    "plt.plot(plotx)\n",
    "plt.plot(plotty)\n",
    "plt.xlabel('Epochs')\n",
    "plt.ylabel('Loss')\n",
    "plt.legend(['Train', 'Validation'])\n",
    "plt.show()"
   ]
  },
  {
   "cell_type": "code",
   "execution_count": 123,
   "metadata": {},
   "outputs": [
    {
     "data": {
      "image/png": "[encoded data removed]",
      "text/plain": [
       "<Figure size 640x480 with 2 Axes>"
      ]
     },
     "metadata": {},
     "output_type": "display_data"
    },
    {
     "name": "stdout",
     "output_type": "stream",
     "text": [
      "F1 -> 0.9224632261281477\n"
     ]
    }
   ],
   "source": [
    "from sklearn.metrics import f1_score\n",
    "y_predtrain = MLP.predict(X_trainrs, verbose=0)\n",
    "y_predtrain = np.argmax(y_predtrain, axis=1)\n",
    "cm2 = confusion_matrix(np.argmax(y_train, axis=1), y_predtrain)\n",
    "disp2 = ConfusionMatrixDisplay(confusion_matrix=cm2, display_labels=[0,1])\n",
    "disp2.plot()\n",
    "plt.show()\n",
    "print(\"F1 ->\", f1_score(np.argmax(y_train, axis=1), y_predtrain))"
   ]
  },
  {
   "cell_type": "code",
   "execution_count": 124,
   "metadata": {},
   "outputs": [
    {
     "name": "stdout",
     "output_type": "stream",
     "text": [
      "(626, 2)\n",
      "(626, 2)\n",
      "20/20 [==============================] - 0s 5ms/step - loss: 0.3192 - accuracy: 0.8594 - mse: 0.1021\n",
      "F1 -> 0.50561797752809\n",
      "Balanced ACC -> 0.6842020592020592\n",
      "[[493  25]\n",
      " [ 63  45]]\n"
     ]
    }
   ],
   "source": [
    "\n",
    "y_pred = MLP.predict(X_testrs, verbose=0)\n",
    "print(y_pred.shape)\n",
    "y_pred = np.argmax(y_pred, axis=1)\n",
    "y_test = to_categorical(y_test,2)\n",
    "print(y_test.shape)\n",
    "MLP.evaluate(X_testrs, y_test, verbose=1)\n",
    "y_comp = np.argmax(y_test, axis=1)\n",
    "print(\"F1 ->\", f1_score(y_comp, y_pred))\n",
    "print(\"Balanced ACC ->\", balanced_accuracy_score(y_comp, y_pred))\n",
    "cm = confusion_matrix(y_comp, y_pred)\n",
    "print(cm)"
   ]
  },
  {
   "cell_type": "code",
   "execution_count": 125,
   "metadata": {},
   "outputs": [
    {
     "data": {
      "text/plain": [
       "88"
      ]
     },
     "execution_count": 125,
     "metadata": {},
     "output_type": "execute_result"
    }
   ],
   "source": [
    "counter = 0\n",
    "for i in range(len(y_comp)):\n",
    "    if(y_pred[i] != y_comp[i]):\n",
    "        #print(i, \"\\t\", y_pred[i], \"\\t\", y_test[i])\n",
    "        counter+=1\n",
    "counter"
   ]
  },
  {
   "cell_type": "code",
   "execution_count": 126,
   "metadata": {},
   "outputs": [
    {
     "data": {
      "image/png": "[encoded data removed]",
      "text/plain": [
       "<Figure size 640x480 with 2 Axes>"
      ]
     },
     "metadata": {},
     "output_type": "display_data"
    }
   ],
   "source": [
    "cm = confusion_matrix(y_comp, y_pred)\n",
    "disp = ConfusionMatrixDisplay(confusion_matrix=cm, display_labels=[0,1])\n",
    "disp.plot()\n",
    "plt.show()\n"
   ]
  },
  {
   "cell_type": "code",
   "execution_count": null,
   "metadata": {},
   "outputs": [],
   "source": []
  }
 ],
 "metadata": {
  "kernelspec": {
   "display_name": "Python 3",
   "language": "python",
   "name": "python3"
  },
  "language_info": {
   "codemirror_mode": {
    "name": "ipython",
    "version": 3
   },
   "file_extension": ".py",
   "mimetype": "text/x-python",
   "name": "python",
   "nbconvert_exporter": "python",
   "pygments_lexer": "ipython3",
   "version": "3.11.5"
  }
 },
 "nbformat": 4,
 "nbformat_minor": 2
}
