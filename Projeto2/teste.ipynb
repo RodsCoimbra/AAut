{
 "cells": [
  {
   "cell_type": "code",
   "execution_count": 30,
   "metadata": {},
   "outputs": [],
   "source": [
    "import numpy as np\n",
    "import matplotlib.pyplot as plt\n",
    "from sklearn.preprocessing import StandardScaler\n",
    "from keras.models import Sequential\n",
    "from keras.callbacks import EarlyStopping\n",
    "from keras.layers import Dense, Convolution2D, MaxPooling2D, Flatten\n",
    "from sklearn.model_selection import train_test_split\n",
    "from sklearn.metrics import confusion_matrix\n",
    "import sklearn.metrics as metrics\n",
    "from keras.optimizers import Adam\n",
    "from keras.utils import to_categorical"
   ]
  },
  {
   "cell_type": "code",
   "execution_count": 31,
   "metadata": {},
   "outputs": [],
   "source": [
    "xt = np.load(\"Dados/Xtrain_Classification1.npy\") \n",
    "yt = np.load(\"Dados/ytrain_Classification1.npy\")\n",
    "scalerx = StandardScaler().fit(xt)\n",
    "xScaled = scalerx.transform(xt)\n",
    "yt = to_categorical(yt,2)"
   ]
  },
  {
   "cell_type": "code",
   "execution_count": 32,
   "metadata": {},
   "outputs": [
    {
     "name": "stdout",
     "output_type": "stream",
     "text": [
      "0.3956436350651669 0.604356364934833 2216 3385\n"
     ]
    }
   ],
   "source": [
    "X_train, X_test, y_train, y_test = train_test_split(xScaled, yt, test_size=0.1, shuffle=True)\n",
    "X_train, X_validation, y_train, y_validation = train_test_split(X_train, y_train, test_size=0.3, shuffle=True)\n",
    "counterx=0\n",
    "countery=0\n",
    "add = []\n",
    "for idx, i in enumerate(y_train):\n",
    "        if i[1] == 1:\n",
    "            counterx += 4\n",
    "            for k in range(0, 4):\n",
    "                y_train = np.vstack((y_train, i))\n",
    "                add = np.append(add, X_train[idx, :])\n",
    "        else: \n",
    "             countery += 1\n",
    "X_train = np.append(X_train, add)\n",
    "print(counterx/(counterx+countery), countery/(counterx+countery), counterx, countery)"
   ]
  },
  {
   "cell_type": "code",
   "execution_count": 114,
   "metadata": {},
   "outputs": [],
   "source": [
    "MLP = Sequential()\n",
    "MLP.add(Convolution2D(32, (2,2), input_shape=(28,28,3), activation='relu'))\n",
    "MLP.add(MaxPooling2D(pool_size=(2,2)))\n",
    "MLP.add(Convolution2D(32, (2,2), activation='relu'))\n",
    "MLP.add(MaxPooling2D(pool_size=(2,2)))\n",
    "MLP.add(Convolution2D(16, (2,2), activation='relu'))\n",
    "MLP.add(MaxPooling2D(pool_size=(2,2)))\n",
    "MLP.add(Flatten()) \n",
    "MLP.add(Dense(64, activation='relu'))\n",
    "MLP.add(Dense(32, activation='relu'))\n",
    "MLP.add(Dense(2, activation='softmax'))\n",
    "X_test = X_test.reshape(-1, 28,28,3)\n",
    "X_train = X_train.reshape(-1, 28,28,3)\n",
    "X_validation = X_validation.reshape(-1, 28,28,3)"
   ]
  },
  {
   "cell_type": "code",
   "execution_count": 115,
   "metadata": {},
   "outputs": [],
   "source": [
    "# MLP = Sequential()\n",
    "# MLP.add(Dense(64,input_dim=28*28*3, activation='relu'))\n",
    "# MLP.add(Dense(32, activation='relu'))\n",
    "# MLP.add(Dense(2, activation='softmax'))\n",
    "#X_train = X_train.reshape(-1, 28*28*3)"
   ]
  },
  {
   "cell_type": "code",
   "execution_count": 116,
   "metadata": {},
   "outputs": [],
   "source": [
    "#MLP.summary()"
   ]
  },
  {
   "cell_type": "code",
   "execution_count": 117,
   "metadata": {},
   "outputs": [],
   "source": [
    "MLP.compile(optimizer=Adam(learning_rate=0.001), loss='categorical_crossentropy', metrics=['accuracy', 'mse'])"
   ]
  },
  {
   "cell_type": "code",
   "execution_count": 118,
   "metadata": {},
   "outputs": [
    {
     "name": "stdout",
     "output_type": "stream",
     "text": [
      "Epoch 1/50\n",
      "21/21 - 3s - loss: 0.6164 - accuracy: 0.6731 - mse: 0.2136 - val_loss: 0.5702 - val_accuracy: 0.6436 - val_mse: 0.1962 - 3s/epoch - 148ms/step\n",
      "Epoch 2/50\n",
      "21/21 - 2s - loss: 0.5134 - accuracy: 0.7204 - mse: 0.1735 - val_loss: 0.4760 - val_accuracy: 0.6939 - val_mse: 0.1665 - 2s/epoch - 89ms/step\n",
      "Epoch 3/50\n",
      "21/21 - 2s - loss: 0.4609 - accuracy: 0.7610 - mse: 0.1556 - val_loss: 0.4584 - val_accuracy: 0.6986 - val_mse: 0.1623 - 2s/epoch - 87ms/step\n",
      "Epoch 4/50\n",
      "21/21 - 2s - loss: 0.4346 - accuracy: 0.7802 - mse: 0.1455 - val_loss: 0.3975 - val_accuracy: 0.7774 - val_mse: 0.1360 - 2s/epoch - 92ms/step\n",
      "Epoch 5/50\n",
      "21/21 - 2s - loss: 0.4198 - accuracy: 0.7888 - mse: 0.1404 - val_loss: 0.3357 - val_accuracy: 0.8360 - val_mse: 0.1119 - 2s/epoch - 88ms/step\n",
      "Epoch 6/50\n",
      "21/21 - 2s - loss: 0.4192 - accuracy: 0.7893 - mse: 0.1402 - val_loss: 0.4427 - val_accuracy: 0.7288 - val_mse: 0.1563 - 2s/epoch - 86ms/step\n",
      "Epoch 7/50\n",
      "21/21 - 2s - loss: 0.3984 - accuracy: 0.8018 - mse: 0.1324 - val_loss: 0.4593 - val_accuracy: 0.7105 - val_mse: 0.1650 - 2s/epoch - 91ms/step\n",
      "Epoch 8/50\n",
      "21/21 - 2s - loss: 0.3989 - accuracy: 0.7984 - mse: 0.1331 - val_loss: 0.3378 - val_accuracy: 0.8360 - val_mse: 0.1131 - 2s/epoch - 87ms/step\n",
      "Epoch 9/50\n",
      "21/21 - 2s - loss: 0.3829 - accuracy: 0.8109 - mse: 0.1261 - val_loss: 0.3802 - val_accuracy: 0.7886 - val_mse: 0.1311 - 2s/epoch - 89ms/step\n",
      "Epoch 10/50\n",
      "21/21 - 2s - loss: 0.3706 - accuracy: 0.8198 - mse: 0.1220 - val_loss: 0.3634 - val_accuracy: 0.8076 - val_mse: 0.1243 - 2s/epoch - 95ms/step\n",
      "Epoch 11/50\n",
      "21/21 - 2s - loss: 0.3698 - accuracy: 0.8174 - mse: 0.1218 - val_loss: 0.4750 - val_accuracy: 0.7235 - val_mse: 0.1677 - 2s/epoch - 88ms/step\n",
      "Epoch 12/50\n",
      "21/21 - 2s - loss: 0.3664 - accuracy: 0.8167 - mse: 0.1206 - val_loss: 0.3195 - val_accuracy: 0.8413 - val_mse: 0.1059 - 2s/epoch - 87ms/step\n",
      "Epoch 13/50\n",
      "21/21 - 2s - loss: 0.3502 - accuracy: 0.8314 - mse: 0.1141 - val_loss: 0.3364 - val_accuracy: 0.8289 - val_mse: 0.1132 - 2s/epoch - 89ms/step\n",
      "Epoch 14/50\n",
      "21/21 - 2s - loss: 0.3357 - accuracy: 0.8398 - mse: 0.1083 - val_loss: 0.3631 - val_accuracy: 0.8141 - val_mse: 0.1233 - 2s/epoch - 86ms/step\n",
      "Epoch 15/50\n",
      "21/21 - 2s - loss: 0.3257 - accuracy: 0.8437 - mse: 0.1050 - val_loss: 0.3373 - val_accuracy: 0.8360 - val_mse: 0.1125 - 2s/epoch - 86ms/step\n",
      "Epoch 16/50\n",
      "21/21 - 2s - loss: 0.3176 - accuracy: 0.8549 - mse: 0.1017 - val_loss: 0.3045 - val_accuracy: 0.8567 - val_mse: 0.0991 - 2s/epoch - 91ms/step\n",
      "Epoch 17/50\n",
      "21/21 - 2s - loss: 0.3150 - accuracy: 0.8546 - mse: 0.1007 - val_loss: 0.3667 - val_accuracy: 0.8165 - val_mse: 0.1227 - 2s/epoch - 87ms/step\n",
      "Epoch 18/50\n",
      "21/21 - 2s - loss: 0.3013 - accuracy: 0.8676 - mse: 0.0951 - val_loss: 0.3234 - val_accuracy: 0.8490 - val_mse: 0.1047 - 2s/epoch - 86ms/step\n",
      "Epoch 19/50\n",
      "21/21 - 2s - loss: 0.2953 - accuracy: 0.8661 - mse: 0.0936 - val_loss: 0.3543 - val_accuracy: 0.8224 - val_mse: 0.1175 - 2s/epoch - 88ms/step\n",
      "Epoch 20/50\n",
      "21/21 - 2s - loss: 0.2922 - accuracy: 0.8663 - mse: 0.0930 - val_loss: 0.2905 - val_accuracy: 0.8644 - val_mse: 0.0929 - 2s/epoch - 87ms/step\n",
      "Epoch 21/50\n",
      "21/21 - 2s - loss: 0.2908 - accuracy: 0.8700 - mse: 0.0916 - val_loss: 0.3616 - val_accuracy: 0.8313 - val_mse: 0.1180 - 2s/epoch - 85ms/step\n",
      "Epoch 22/50\n",
      "21/21 - 2s - loss: 0.2775 - accuracy: 0.8767 - mse: 0.0872 - val_loss: 0.4233 - val_accuracy: 0.7963 - val_mse: 0.1395 - 2s/epoch - 88ms/step\n",
      "Epoch 23/50\n",
      "21/21 - 2s - loss: 0.2627 - accuracy: 0.8832 - mse: 0.0817 - val_loss: 0.4306 - val_accuracy: 0.7951 - val_mse: 0.1422 - 2s/epoch - 87ms/step\n",
      "Epoch 24/50\n",
      "21/21 - 2s - loss: 0.2554 - accuracy: 0.8890 - mse: 0.0791 - val_loss: 0.3448 - val_accuracy: 0.8437 - val_mse: 0.1112 - 2s/epoch - 85ms/step\n",
      "Epoch 25/50\n",
      "21/21 - 2s - loss: 0.2423 - accuracy: 0.8955 - mse: 0.0741 - val_loss: 0.3221 - val_accuracy: 0.8603 - val_mse: 0.0981 - 2s/epoch - 89ms/step\n",
      "Epoch 26/50\n",
      "21/21 - 2s - loss: 0.2370 - accuracy: 0.8999 - mse: 0.0722 - val_loss: 0.3485 - val_accuracy: 0.8472 - val_mse: 0.1088 - 2s/epoch - 87ms/step\n",
      "Epoch 27/50\n",
      "21/21 - 2s - loss: 0.2411 - accuracy: 0.8959 - mse: 0.0742 - val_loss: 0.3475 - val_accuracy: 0.8455 - val_mse: 0.1091 - 2s/epoch - 86ms/step\n",
      "Epoch 28/50\n",
      "Restoring model weights from the end of the best epoch: 20.\n",
      "21/21 - 2s - loss: 0.2294 - accuracy: 0.9061 - mse: 0.0697 - val_loss: 0.3915 - val_accuracy: 0.8271 - val_mse: 0.1224 - 2s/epoch - 90ms/step\n",
      "Epoch 28: early stopping\n"
     ]
    }
   ],
   "source": [
    "callback = EarlyStopping(monitor='val_loss', patience=8, mode='auto', verbose=1, restore_best_weights=True, min_delta=0.0001)\n",
    "hist = MLP.fit(x=X_train, y=y_train, epochs=50, validation_data=(X_validation, y_validation), verbose=2, batch_size=300, callbacks=[callback])"
   ]
  },
  {
   "cell_type": "code",
   "execution_count": 119,
   "metadata": {},
   "outputs": [
    {
     "data": {
      "image/png": "[encoded data removed]",
      "text/plain": [
       "<Figure size 640x480 with 1 Axes>"
      ]
     },
     "metadata": {},
     "output_type": "display_data"
    }
   ],
   "source": [
    "plotx = hist.history['loss']\n",
    "plotty = hist.history['val_loss']\n",
    "plt.plot(plotx)\n",
    "plt.plot(plotty)\n",
    "plt.xlabel('Epochs')\n",
    "plt.ylabel('Loss')\n",
    "plt.legend(['Train', 'Validation'])\n",
    "plt.show()"
   ]
  },
  {
   "cell_type": "code",
   "execution_count": 120,
   "metadata": {},
   "outputs": [
    {
     "name": "stdout",
     "output_type": "stream",
     "text": [
      "20/20 [==============================] - 0s 4ms/step - loss: 0.3358 - accuracy: 0.8227 - mse: 0.1132\n",
      "F1 -> 0.4931506849315069\n"
     ]
    }
   ],
   "source": [
    "from sklearn.metrics import f1_score\n",
    "y_pred = MLP.predict(X_test, verbose=0)\n",
    "y_pred = np.argmax(y_pred, axis=1)\n",
    "MLP.evaluate(X_test, y_test, verbose=1)\n",
    "y_comp = np.argmax(y_test, axis=1)\n",
    "print(\"F1 ->\", f1_score(y_comp, y_pred))\n"
   ]
  },
  {
   "cell_type": "code",
   "execution_count": 121,
   "metadata": {},
   "outputs": [
    {
     "data": {
      "text/plain": [
       "111"
      ]
     },
     "execution_count": 121,
     "metadata": {},
     "output_type": "execute_result"
    }
   ],
   "source": [
    "counter = 0\n",
    "for i in range(len(y_comp)):\n",
    "    if(y_pred[i] != y_comp[i]):\n",
    "        #print(i, \"\\t\", y_pred[i], \"\\t\", y_test[i])\n",
    "        counter+=1\n",
    "counter"
   ]
  },
  {
   "cell_type": "code",
   "execution_count": 122,
   "metadata": {},
   "outputs": [
    {
     "data": {
      "text/plain": [
       "(461, 57, 54, 54)"
      ]
     },
     "execution_count": 122,
     "metadata": {},
     "output_type": "execute_result"
    }
   ],
   "source": [
    "tn, fp, fn, tp = confusion_matrix(y_comp, y_pred).ravel()\n",
    "tn, fp, fn, tp"
   ]
  }
 ],
 "metadata": {
  "kernelspec": {
   "display_name": "Python 3",
   "language": "python",
   "name": "python3"
  },
  "language_info": {
   "codemirror_mode": {
    "name": "ipython",
    "version": 3
   },
   "file_extension": ".py",
   "mimetype": "text/x-python",
   "name": "python",
   "nbconvert_exporter": "python",
   "pygments_lexer": "ipython3",
   "version": "3.10.8"
  }
 },
 "nbformat": 4,
 "nbformat_minor": 2
}
