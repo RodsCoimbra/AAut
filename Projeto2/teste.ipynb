{
 "cells": [
  {
   "cell_type": "code",
   "execution_count": 19,
   "metadata": {},
   "outputs": [],
   "source": [
    "import numpy as np\n",
    "import matplotlib.pyplot as plt\n",
    "from sklearn.preprocessing import StandardScaler\n",
    "from keras.models import Sequential\n",
    "from keras.callbacks import EarlyStopping\n",
    "from keras.layers import Dense, Convolution2D, MaxPooling2D, Flatten\n",
    "from sklearn.model_selection import train_test_split\n",
    "from sklearn.metrics import confusion_matrix\n",
    "import sklearn.metrics as metrics\n",
    "from keras.optimizers import Adam\n",
    "from keras.utils import to_categorical"
   ]
  },
  {
   "cell_type": "code",
   "execution_count": 20,
   "metadata": {},
   "outputs": [],
   "source": [
    "xt = np.load(\"Dados/Xtrain_Classification1.npy\") \n",
    "yt = np.load(\"Dados/ytrain_Classification1.npy\")\n",
    "scalerx = StandardScaler().fit(xt)\n",
    "xScaled = scalerx.transform(xt)"
   ]
  },
  {
   "cell_type": "code",
   "execution_count": 21,
   "metadata": {},
   "outputs": [],
   "source": [
    "X_train, X_test, y_train, y_test = train_test_split(xScaled, yt, test_size=0.1, shuffle=True)\n",
    "X_train, X_validation, y_train, y_validation = train_test_split(X_train, y_train, test_size=0.3, shuffle=True)\n",
    "counterx=0\n",
    "countery=0\n",
    "add = []\n",
    "for idx, i in enumerate(y_train):\n",
    "        if i == 1:\n",
    "            counterx += 4\n",
    "            for k in range(0, 4):\n",
    "                y_train = np.append(y_train, i)\n",
    "                add = np.append(add, X_train[idx, :])\n",
    "        else: \n",
    "             countery += 1\n",
    "X_train = np.vstack((X_train, add))\n",
    "print(counterx/(counterx+countery), countery/(counterx+countery), counterx, countery)"
   ]
  },
  {
   "cell_type": "code",
   "execution_count": 4,
   "metadata": {},
   "outputs": [],
   "source": [
    "# MLP = Sequential()\n",
    "# MLP.add(Convolution2D(16, (2,2), input_shape=(28,28,3), activation='relu'))\n",
    "# MLP.add(MaxPooling2D(pool_size=(2,2)))\n",
    "# MLP.add(Convolution2D(16, (2,2), activation='relu'))\n",
    "# MLP.add(MaxPooling2D(pool_size=(2,2)))\n",
    "# MLP.add(Flatten()) \n",
    "# MLP.add(Dense(64, activation='relu'))\n",
    "# MLP.add(Dense(2, activation='softmax'))"
   ]
  },
  {
   "cell_type": "code",
   "execution_count": 5,
   "metadata": {},
   "outputs": [],
   "source": [
    "MLP = Sequential()\n",
    "MLP.add(Dense(16,input_dim=28*28*3, activation='relu'))\n",
    "MLP.add(Dense(16, activation='relu'))\n",
    "MLP.add(Dense(2, activation='softmax'))"
   ]
  },
  {
   "cell_type": "code",
   "execution_count": 6,
   "metadata": {},
   "outputs": [
    {
     "name": "stdout",
     "output_type": "stream",
     "text": [
      "Model: \"sequential\"\n",
      "_________________________________________________________________\n",
      " Layer (type)                Output Shape              Param #   \n",
      "=================================================================\n",
      " dense (Dense)               (None, 8)                 18824     \n",
      "                                                                 \n",
      " dense_1 (Dense)             (None, 4)                 36        \n",
      "                                                                 \n",
      " dense_2 (Dense)             (None, 2)                 10        \n",
      "                                                                 \n",
      "=================================================================\n",
      "Total params: 18870 (73.71 KB)\n",
      "Trainable params: 18870 (73.71 KB)\n",
      "Non-trainable params: 0 (0.00 Byte)\n",
      "_________________________________________________________________\n"
     ]
    }
   ],
   "source": [
    "MLP.summary()"
   ]
  },
  {
   "cell_type": "code",
   "execution_count": 7,
   "metadata": {},
   "outputs": [],
   "source": [
    "MLP.compile(optimizer=Adam(learning_rate=0.0001), loss='sparse_categorical_crossentropy', metrics=['accuracy', 'mse'])"
   ]
  },
  {
   "cell_type": "code",
   "execution_count": 8,
   "metadata": {},
   "outputs": [
    {
     "name": "stdout",
     "output_type": "stream",
     "text": [
      "Epoch 1/25\n",
      "62/62 - 1s - loss: 0.5089 - accuracy: 0.8302 - mse: 0.2930 - val_loss: 0.4155 - val_accuracy: 0.8697 - val_mse: 0.3302 - 1s/epoch - 17ms/step\n",
      "Epoch 2/25\n",
      "62/62 - 0s - loss: 0.3959 - accuracy: 0.8522 - mse: 0.3469 - val_loss: 0.3589 - val_accuracy: 0.8721 - val_mse: 0.3613 - 183ms/epoch - 3ms/step\n",
      "Epoch 3/25\n",
      "62/62 - 0s - loss: 0.3563 - accuracy: 0.8522 - mse: 0.3654 - val_loss: 0.3337 - val_accuracy: 0.8715 - val_mse: 0.3762 - 176ms/epoch - 3ms/step\n",
      "Epoch 4/25\n",
      "62/62 - 0s - loss: 0.3356 - accuracy: 0.8538 - mse: 0.3760 - val_loss: 0.3205 - val_accuracy: 0.8733 - val_mse: 0.3844 - 173ms/epoch - 3ms/step\n",
      "Epoch 5/25\n",
      "62/62 - 0s - loss: 0.3241 - accuracy: 0.8563 - mse: 0.3821 - val_loss: 0.3122 - val_accuracy: 0.8703 - val_mse: 0.3885 - 166ms/epoch - 3ms/step\n",
      "Epoch 6/25\n",
      "62/62 - 0s - loss: 0.3165 - accuracy: 0.8586 - mse: 0.3861 - val_loss: 0.3068 - val_accuracy: 0.8703 - val_mse: 0.3927 - 156ms/epoch - 3ms/step\n",
      "Epoch 7/25\n",
      "62/62 - 0s - loss: 0.3122 - accuracy: 0.8571 - mse: 0.3903 - val_loss: 0.3031 - val_accuracy: 0.8727 - val_mse: 0.3935 - 172ms/epoch - 3ms/step\n",
      "Epoch 8/25\n",
      "62/62 - 0s - loss: 0.3066 - accuracy: 0.8599 - mse: 0.3917 - val_loss: 0.2985 - val_accuracy: 0.8733 - val_mse: 0.3957 - 168ms/epoch - 3ms/step\n",
      "Epoch 9/25\n",
      "62/62 - 0s - loss: 0.3030 - accuracy: 0.8616 - mse: 0.3938 - val_loss: 0.2951 - val_accuracy: 0.8703 - val_mse: 0.3963 - 216ms/epoch - 3ms/step\n",
      "Epoch 10/25\n",
      "62/62 - 0s - loss: 0.3003 - accuracy: 0.8606 - mse: 0.3955 - val_loss: 0.2936 - val_accuracy: 0.8727 - val_mse: 0.3979 - 168ms/epoch - 3ms/step\n",
      "Epoch 11/25\n",
      "62/62 - 0s - loss: 0.2969 - accuracy: 0.8629 - mse: 0.3953 - val_loss: 0.2919 - val_accuracy: 0.8727 - val_mse: 0.4001 - 154ms/epoch - 2ms/step\n",
      "Epoch 12/25\n",
      "62/62 - 0s - loss: 0.2948 - accuracy: 0.8647 - mse: 0.3974 - val_loss: 0.2901 - val_accuracy: 0.8745 - val_mse: 0.4017 - 165ms/epoch - 3ms/step\n",
      "Epoch 13/25\n",
      "62/62 - 0s - loss: 0.2931 - accuracy: 0.8639 - mse: 0.3994 - val_loss: 0.2881 - val_accuracy: 0.8757 - val_mse: 0.4016 - 181ms/epoch - 3ms/step\n",
      "Epoch 14/25\n",
      "62/62 - 0s - loss: 0.2906 - accuracy: 0.8644 - mse: 0.3995 - val_loss: 0.2878 - val_accuracy: 0.8751 - val_mse: 0.4031 - 182ms/epoch - 3ms/step\n",
      "Epoch 15/25\n",
      "62/62 - 0s - loss: 0.2893 - accuracy: 0.8642 - mse: 0.4000 - val_loss: 0.2873 - val_accuracy: 0.8745 - val_mse: 0.4038 - 177ms/epoch - 3ms/step\n",
      "Epoch 16/25\n",
      "62/62 - 0s - loss: 0.2869 - accuracy: 0.8665 - mse: 0.4005 - val_loss: 0.2860 - val_accuracy: 0.8757 - val_mse: 0.4052 - 156ms/epoch - 3ms/step\n",
      "Epoch 17/25\n",
      "62/62 - 0s - loss: 0.2849 - accuracy: 0.8662 - mse: 0.4031 - val_loss: 0.2864 - val_accuracy: 0.8745 - val_mse: 0.4054 - 158ms/epoch - 3ms/step\n",
      "Epoch 18/25\n",
      "62/62 - 0s - loss: 0.2835 - accuracy: 0.8667 - mse: 0.4023 - val_loss: 0.2871 - val_accuracy: 0.8745 - val_mse: 0.4064 - 233ms/epoch - 4ms/step\n",
      "Epoch 19/25\n",
      "62/62 - 0s - loss: 0.2828 - accuracy: 0.8670 - mse: 0.4036 - val_loss: 0.2849 - val_accuracy: 0.8727 - val_mse: 0.4048 - 159ms/epoch - 3ms/step\n",
      "Epoch 20/25\n",
      "62/62 - 0s - loss: 0.2809 - accuracy: 0.8682 - mse: 0.4032 - val_loss: 0.2852 - val_accuracy: 0.8739 - val_mse: 0.4066 - 163ms/epoch - 3ms/step\n",
      "Epoch 21/25\n",
      "62/62 - 0s - loss: 0.2798 - accuracy: 0.8690 - mse: 0.4027 - val_loss: 0.2848 - val_accuracy: 0.8751 - val_mse: 0.4072 - 165ms/epoch - 3ms/step\n",
      "Epoch 22/25\n",
      "62/62 - 0s - loss: 0.2776 - accuracy: 0.8695 - mse: 0.4064 - val_loss: 0.2839 - val_accuracy: 0.8721 - val_mse: 0.4064 - 172ms/epoch - 3ms/step\n",
      "Epoch 23/25\n",
      "62/62 - 0s - loss: 0.2772 - accuracy: 0.8680 - mse: 0.4034 - val_loss: 0.2839 - val_accuracy: 0.8739 - val_mse: 0.4072 - 156ms/epoch - 3ms/step\n",
      "Epoch 24/25\n",
      "62/62 - 0s - loss: 0.2754 - accuracy: 0.8690 - mse: 0.4051 - val_loss: 0.2842 - val_accuracy: 0.8739 - val_mse: 0.4078 - 163ms/epoch - 3ms/step\n",
      "Epoch 25/25\n",
      "62/62 - 0s - loss: 0.2738 - accuracy: 0.8700 - mse: 0.4059 - val_loss: 0.2835 - val_accuracy: 0.8745 - val_mse: 0.4076 - 164ms/epoch - 3ms/step\n"
     ]
    }
   ],
   "source": [
    "callback = EarlyStopping(monitor='val_loss', patience=8, mode='auto', verbose=1, restore_best_weights=True, min_delta=0.0001)\n",
    "hist = MLP.fit(x=X_train, y=y_train, epochs=25, validation_data=(X_validation, y_validation), verbose=2, batch_size=64, callbacks=[callback])"
   ]
  },
  {
   "cell_type": "code",
   "execution_count": 9,
   "metadata": {},
   "outputs": [
    {
     "data": {
      "image/png": "[encoded data removed]",
      "text/plain": [
       "<Figure size 640x480 with 1 Axes>"
      ]
     },
     "metadata": {},
     "output_type": "display_data"
    }
   ],
   "source": [
    "plotx = hist.history['loss']\n",
    "plotty = hist.history['val_loss']\n",
    "plt.plot(plotx)\n",
    "plt.plot(plotty)\n",
    "plt.xlabel('Epochs')\n",
    "plt.ylabel('Loss')\n",
    "plt.legend(['Train', 'Validation'])\n",
    "plt.show()"
   ]
  },
  {
   "cell_type": "code",
   "execution_count": 10,
   "metadata": {},
   "outputs": [
    {
     "name": "stdout",
     "output_type": "stream",
     "text": [
      "20/20 [==============================] - 0s 1ms/step - loss: 0.3434 - accuracy: 0.8355 - mse: 0.4028\n",
      "F1 -> 0.08849557522123894\n"
     ]
    }
   ],
   "source": [
    "from sklearn.metrics import f1_score\n",
    "y_pred = MLP.predict(X_test, verbose=0)\n",
    "y_pred = np.argmax(y_pred, axis=1)\n",
    "MLP.evaluate(X_test, y_test, verbose=1)\n",
    "print(\"F1 ->\", f1_score(y_test, y_pred))\n"
   ]
  },
  {
   "cell_type": "code",
   "execution_count": 11,
   "metadata": {},
   "outputs": [
    {
     "data": {
      "text/plain": [
       "103"
      ]
     },
     "execution_count": 11,
     "metadata": {},
     "output_type": "execute_result"
    }
   ],
   "source": [
    "counter = 0\n",
    "for i in range(len(y_pred)):\n",
    "    if(y_pred[i] != y_test[i]):\n",
    "        #print(i, \"\\t\", y_pred[i], \"\\t\", y_test[i])\n",
    "        counter+=1\n",
    "counter"
   ]
  },
  {
   "cell_type": "code",
   "execution_count": 12,
   "metadata": {},
   "outputs": [
    {
     "data": {
      "text/plain": [
       "(518, 4, 99, 5)"
      ]
     },
     "execution_count": 12,
     "metadata": {},
     "output_type": "execute_result"
    }
   ],
   "source": [
    "tn, fp, fn, tp = confusion_matrix(y_test, y_pred).ravel()\n",
    "tn, fp, fn, tp"
   ]
  }
 ],
 "metadata": {
  "kernelspec": {
   "display_name": "Python 3",
   "language": "python",
   "name": "python3"
  },
  "language_info": {
   "codemirror_mode": {
    "name": "ipython",
    "version": 3
   },
   "file_extension": ".py",
   "mimetype": "text/x-python",
   "name": "python",
   "nbconvert_exporter": "python",
   "pygments_lexer": "ipython3",
   "version": "3.10.8"
  }
 },
 "nbformat": 4,
 "nbformat_minor": 2
}
