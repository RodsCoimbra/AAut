{
 "cells": [
  {
   "cell_type": "code",
   "execution_count": 18,
   "metadata": {},
   "outputs": [],
   "source": [
    "import numpy as np\n",
    "import matplotlib.pyplot as plt\n",
    "from keras.models import Sequential\n",
    "from keras.callbacks import EarlyStopping\n",
    "from keras.layers import Dense, Convolution2D, MaxPooling2D, Flatten, Dropout\n",
    "from sklearn.model_selection import train_test_split\n",
    "from sklearn.metrics import confusion_matrix, ConfusionMatrixDisplay\n",
    "from keras.optimizers import Adam\n",
    "from keras.utils import to_categorical\n",
    "from sklearn.metrics import balanced_accuracy_score\n",
    "import cv2\n",
    "from imblearn.over_sampling import RandomOverSampler, SMOTE\n",
    "import tensorflow as tf"
   ]
  },
  {
   "cell_type": "markdown",
   "metadata": {},
   "source": [
    "# DADOS"
   ]
  },
  {
   "cell_type": "code",
   "execution_count": 19,
   "metadata": {},
   "outputs": [],
   "source": [
    "xt = np.load(\"Dados/Xtrain_Classification1.npy\")\n",
    "yt = np.load(\"Dados/ytrain_Classification1.npy\")\n",
    "xScaled =  (xt).astype('float32')/255.0"
   ]
  },
  {
   "cell_type": "code",
   "execution_count": 20,
   "metadata": {},
   "outputs": [],
   "source": [
    "X_train, X_test, y_train, y_test = train_test_split(xScaled, yt, test_size=0.2, shuffle=True, random_state=10, stratify=yt)\n",
    "X_train, X_validation, y_train, y_validation = train_test_split(X_train, y_train, test_size=0.2, shuffle=True, random_state=10,stratify=y_train)\n",
    "\n",
    "# sm = SMOTE(random_state = 2) \n",
    "# X_train, y_train = sm.fit_resample(X_train, y_train) "
   ]
  },
  {
   "cell_type": "markdown",
   "metadata": {},
   "source": [
    "# Rodar imagens"
   ]
  },
  {
   "cell_type": "code",
   "execution_count": 21,
   "metadata": {},
   "outputs": [],
   "source": [
    "X_testrs = X_test.reshape(-1, 28,28,3)\n",
    "X_trainrs = X_train.reshape(-1, 28,28,3)\n",
    "X_validationrs = X_validation.reshape(-1, 28,28,3)\n",
    "addx = np.array([])\n",
    "addy = np.array([]) \n",
    "for idx, i in enumerate(y_train):\n",
    "        for l in range(3):\n",
    "            if l == 0:\n",
    "                if not np.any(addx):\n",
    "                    addx = np.expand_dims(cv2.rotate(X_trainrs[idx], cv2.ROTATE_90_COUNTERCLOCKWISE), axis=0)\n",
    "                    addy = np.append(addy,i)\n",
    "                else:\n",
    "                    aux = np.expand_dims(cv2.rotate(X_trainrs[idx], cv2.ROTATE_90_COUNTERCLOCKWISE), axis=0)\n",
    "                    addx = np.append(addx,aux,axis=0)\n",
    "                    addy = np.append(addy,i)\n",
    "                   \n",
    "            elif l == 1:\n",
    "                aux = np.expand_dims(cv2.rotate(X_trainrs[idx], cv2.ROTATE_90_CLOCKWISE), axis=0) \n",
    "                addx = np.append(addx,aux,axis=0)\n",
    "                addy = np.append(addy,i)\n",
    "            \n",
    "            elif l == 2:\n",
    "                aux = np.expand_dims(cv2.rotate(X_trainrs[idx],  cv2.ROTATE_180), axis=0) \n",
    "                addx = np.append(addx,aux,axis=0)\n",
    "                addy = np.append(addy,i)\n",
    "\n",
    "X_trainrs = np.append(X_trainrs,addx,axis=0) \n",
    "y_train = np.append(y_train,addy)\n",
    "\n",
    "\n"
   ]
  },
  {
   "cell_type": "code",
   "execution_count": 22,
   "metadata": {},
   "outputs": [],
   "source": [
    "\n",
    "X_trainrs = X_trainrs.reshape(-1, 28*28*3)  \n",
    "oversample = RandomOverSampler(sampling_strategy='minority')\n",
    "X_trainrs, y_train = oversample.fit_resample(X_trainrs, y_train)\n",
    "X_trainrs = X_trainrs.reshape(-1, 28,28,3)\n",
    "y_train = to_categorical(y_train,2)\n",
    "y_validation = to_categorical(y_validation,2)\n",
    "y_test = to_categorical(y_test,2)\n",
    "\n",
    "np.save(\"Dados/Xtrain1.npy\", X_trainrs)\n",
    "np.save(\"Dados/ytrain1.npy\", y_train)\n",
    "np.save(\"Dados/Xvalidation1.npy\", X_validationrs)\n",
    "np.save(\"Dados/yvalidation1.npy\", y_validation)\n",
    "np.save(\"Dados/Xtest1.npy\", X_testrs)\n",
    "np.save(\"Dados/ytest1.npy\", y_test)"
   ]
  },
  {
   "cell_type": "markdown",
   "metadata": {},
   "source": [
    "# Apenas para ver as imagens"
   ]
  },
  {
   "cell_type": "code",
   "execution_count": 53,
   "metadata": {},
   "outputs": [
    {
     "ename": "TypeError",
     "evalue": "Invalid shape (2352,) for image data",
     "output_type": "error",
     "traceback": [
      "\u001b[1;31m---------------------------------------------------------------------------\u001b[0m",
      "\u001b[1;31mTypeError\u001b[0m                                 Traceback (most recent call last)",
      "\u001b[1;32mc:\\Users\\rodsc\\OneDrive - Universidade de Lisboa\\4º ano\\1º semestre\\AAut\\Projeto\\AAut\\Projeto2\\NN2.ipynb Cell 9\u001b[0m line \u001b[0;36m1\n\u001b[0;32m      <a href='vscode-notebook-cell:/c%3A/Users/rodsc/OneDrive%20-%20Universidade%20de%20Lisboa/4%C2%BA%20ano/1%C2%BA%20semestre/AAut/Projeto/AAut/Projeto2/NN2.ipynb#X11sZmlsZQ%3D%3D?line=7'>8</a>\u001b[0m img \u001b[39m=\u001b[39m X_trainrs\n\u001b[0;32m      <a href='vscode-notebook-cell:/c%3A/Users/rodsc/OneDrive%20-%20Universidade%20de%20Lisboa/4%C2%BA%20ano/1%C2%BA%20semestre/AAut/Projeto/AAut/Projeto2/NN2.ipynb#X11sZmlsZQ%3D%3D?line=8'>9</a>\u001b[0m \u001b[39mfor\u001b[39;00m i \u001b[39min\u001b[39;00m img[\u001b[39m-\u001b[39m\u001b[39m2\u001b[39m:]:\n\u001b[1;32m---> <a href='vscode-notebook-cell:/c%3A/Users/rodsc/OneDrive%20-%20Universidade%20de%20Lisboa/4%C2%BA%20ano/1%C2%BA%20semestre/AAut/Projeto/AAut/Projeto2/NN2.ipynb#X11sZmlsZQ%3D%3D?line=9'>10</a>\u001b[0m     plt\u001b[39m.\u001b[39;49mimshow(i)\n\u001b[0;32m     <a href='vscode-notebook-cell:/c%3A/Users/rodsc/OneDrive%20-%20Universidade%20de%20Lisboa/4%C2%BA%20ano/1%C2%BA%20semestre/AAut/Projeto/AAut/Projeto2/NN2.ipynb#X11sZmlsZQ%3D%3D?line=10'>11</a>\u001b[0m     plt\u001b[39m.\u001b[39mshow()\n\u001b[0;32m     <a href='vscode-notebook-cell:/c%3A/Users/rodsc/OneDrive%20-%20Universidade%20de%20Lisboa/4%C2%BA%20ano/1%C2%BA%20semestre/AAut/Projeto/AAut/Projeto2/NN2.ipynb#X11sZmlsZQ%3D%3D?line=11'>12</a>\u001b[0m \u001b[39mprint\u001b[39m(y_train[\u001b[39m-\u001b[39m\u001b[39m2\u001b[39m:])\n",
      "File \u001b[1;32mc:\\Users\\rodsc\\AppData\\Local\\Programs\\Python\\Python310\\lib\\site-packages\\matplotlib\\pyplot.py:2695\u001b[0m, in \u001b[0;36mimshow\u001b[1;34m(X, cmap, norm, aspect, interpolation, alpha, vmin, vmax, origin, extent, interpolation_stage, filternorm, filterrad, resample, url, data, **kwargs)\u001b[0m\n\u001b[0;32m   2689\u001b[0m \u001b[39m@_copy_docstring_and_deprecators\u001b[39m(Axes\u001b[39m.\u001b[39mimshow)\n\u001b[0;32m   2690\u001b[0m \u001b[39mdef\u001b[39;00m \u001b[39mimshow\u001b[39m(\n\u001b[0;32m   2691\u001b[0m         X, cmap\u001b[39m=\u001b[39m\u001b[39mNone\u001b[39;00m, norm\u001b[39m=\u001b[39m\u001b[39mNone\u001b[39;00m, \u001b[39m*\u001b[39m, aspect\u001b[39m=\u001b[39m\u001b[39mNone\u001b[39;00m, interpolation\u001b[39m=\u001b[39m\u001b[39mNone\u001b[39;00m,\n\u001b[0;32m   2692\u001b[0m         alpha\u001b[39m=\u001b[39m\u001b[39mNone\u001b[39;00m, vmin\u001b[39m=\u001b[39m\u001b[39mNone\u001b[39;00m, vmax\u001b[39m=\u001b[39m\u001b[39mNone\u001b[39;00m, origin\u001b[39m=\u001b[39m\u001b[39mNone\u001b[39;00m, extent\u001b[39m=\u001b[39m\u001b[39mNone\u001b[39;00m,\n\u001b[0;32m   2693\u001b[0m         interpolation_stage\u001b[39m=\u001b[39m\u001b[39mNone\u001b[39;00m, filternorm\u001b[39m=\u001b[39m\u001b[39mTrue\u001b[39;00m, filterrad\u001b[39m=\u001b[39m\u001b[39m4.0\u001b[39m,\n\u001b[0;32m   2694\u001b[0m         resample\u001b[39m=\u001b[39m\u001b[39mNone\u001b[39;00m, url\u001b[39m=\u001b[39m\u001b[39mNone\u001b[39;00m, data\u001b[39m=\u001b[39m\u001b[39mNone\u001b[39;00m, \u001b[39m*\u001b[39m\u001b[39m*\u001b[39mkwargs):\n\u001b[1;32m-> 2695\u001b[0m     __ret \u001b[39m=\u001b[39m gca()\u001b[39m.\u001b[39mimshow(\n\u001b[0;32m   2696\u001b[0m         X, cmap\u001b[39m=\u001b[39mcmap, norm\u001b[39m=\u001b[39mnorm, aspect\u001b[39m=\u001b[39maspect,\n\u001b[0;32m   2697\u001b[0m         interpolation\u001b[39m=\u001b[39minterpolation, alpha\u001b[39m=\u001b[39malpha, vmin\u001b[39m=\u001b[39mvmin,\n\u001b[0;32m   2698\u001b[0m         vmax\u001b[39m=\u001b[39mvmax, origin\u001b[39m=\u001b[39morigin, extent\u001b[39m=\u001b[39mextent,\n\u001b[0;32m   2699\u001b[0m         interpolation_stage\u001b[39m=\u001b[39minterpolation_stage,\n\u001b[0;32m   2700\u001b[0m         filternorm\u001b[39m=\u001b[39mfilternorm, filterrad\u001b[39m=\u001b[39mfilterrad, resample\u001b[39m=\u001b[39mresample,\n\u001b[0;32m   2701\u001b[0m         url\u001b[39m=\u001b[39murl, \u001b[39m*\u001b[39m\u001b[39m*\u001b[39m({\u001b[39m\"\u001b[39m\u001b[39mdata\u001b[39m\u001b[39m\"\u001b[39m: data} \u001b[39mif\u001b[39;00m data \u001b[39mis\u001b[39;00m \u001b[39mnot\u001b[39;00m \u001b[39mNone\u001b[39;00m \u001b[39melse\u001b[39;00m {}),\n\u001b[0;32m   2702\u001b[0m         \u001b[39m*\u001b[39m\u001b[39m*\u001b[39mkwargs)\n\u001b[0;32m   2703\u001b[0m     sci(__ret)\n\u001b[0;32m   2704\u001b[0m     \u001b[39mreturn\u001b[39;00m __ret\n",
      "File \u001b[1;32mc:\\Users\\rodsc\\AppData\\Local\\Programs\\Python\\Python310\\lib\\site-packages\\matplotlib\\__init__.py:1461\u001b[0m, in \u001b[0;36m_preprocess_data.<locals>.inner\u001b[1;34m(ax, data, *args, **kwargs)\u001b[0m\n\u001b[0;32m   1458\u001b[0m \u001b[39m@functools\u001b[39m\u001b[39m.\u001b[39mwraps(func)\n\u001b[0;32m   1459\u001b[0m \u001b[39mdef\u001b[39;00m \u001b[39minner\u001b[39m(ax, \u001b[39m*\u001b[39margs, data\u001b[39m=\u001b[39m\u001b[39mNone\u001b[39;00m, \u001b[39m*\u001b[39m\u001b[39m*\u001b[39mkwargs):\n\u001b[0;32m   1460\u001b[0m     \u001b[39mif\u001b[39;00m data \u001b[39mis\u001b[39;00m \u001b[39mNone\u001b[39;00m:\n\u001b[1;32m-> 1461\u001b[0m         \u001b[39mreturn\u001b[39;00m func(ax, \u001b[39m*\u001b[39m\u001b[39mmap\u001b[39m(sanitize_sequence, args), \u001b[39m*\u001b[39m\u001b[39m*\u001b[39mkwargs)\n\u001b[0;32m   1463\u001b[0m     bound \u001b[39m=\u001b[39m new_sig\u001b[39m.\u001b[39mbind(ax, \u001b[39m*\u001b[39margs, \u001b[39m*\u001b[39m\u001b[39m*\u001b[39mkwargs)\n\u001b[0;32m   1464\u001b[0m     auto_label \u001b[39m=\u001b[39m (bound\u001b[39m.\u001b[39marguments\u001b[39m.\u001b[39mget(label_namer)\n\u001b[0;32m   1465\u001b[0m                   \u001b[39mor\u001b[39;00m bound\u001b[39m.\u001b[39mkwargs\u001b[39m.\u001b[39mget(label_namer))\n",
      "File \u001b[1;32mc:\\Users\\rodsc\\AppData\\Local\\Programs\\Python\\Python310\\lib\\site-packages\\matplotlib\\axes\\_axes.py:5663\u001b[0m, in \u001b[0;36mAxes.imshow\u001b[1;34m(self, X, cmap, norm, aspect, interpolation, alpha, vmin, vmax, origin, extent, interpolation_stage, filternorm, filterrad, resample, url, **kwargs)\u001b[0m\n\u001b[0;32m   5655\u001b[0m \u001b[39mself\u001b[39m\u001b[39m.\u001b[39mset_aspect(aspect)\n\u001b[0;32m   5656\u001b[0m im \u001b[39m=\u001b[39m mimage\u001b[39m.\u001b[39mAxesImage(\u001b[39mself\u001b[39m, cmap\u001b[39m=\u001b[39mcmap, norm\u001b[39m=\u001b[39mnorm,\n\u001b[0;32m   5657\u001b[0m                       interpolation\u001b[39m=\u001b[39minterpolation, origin\u001b[39m=\u001b[39morigin,\n\u001b[0;32m   5658\u001b[0m                       extent\u001b[39m=\u001b[39mextent, filternorm\u001b[39m=\u001b[39mfilternorm,\n\u001b[0;32m   5659\u001b[0m                       filterrad\u001b[39m=\u001b[39mfilterrad, resample\u001b[39m=\u001b[39mresample,\n\u001b[0;32m   5660\u001b[0m                       interpolation_stage\u001b[39m=\u001b[39minterpolation_stage,\n\u001b[0;32m   5661\u001b[0m                       \u001b[39m*\u001b[39m\u001b[39m*\u001b[39mkwargs)\n\u001b[1;32m-> 5663\u001b[0m im\u001b[39m.\u001b[39;49mset_data(X)\n\u001b[0;32m   5664\u001b[0m im\u001b[39m.\u001b[39mset_alpha(alpha)\n\u001b[0;32m   5665\u001b[0m \u001b[39mif\u001b[39;00m im\u001b[39m.\u001b[39mget_clip_path() \u001b[39mis\u001b[39;00m \u001b[39mNone\u001b[39;00m:\n\u001b[0;32m   5666\u001b[0m     \u001b[39m# image does not already have clipping set, clip to axes patch\u001b[39;00m\n",
      "File \u001b[1;32mc:\\Users\\rodsc\\AppData\\Local\\Programs\\Python\\Python310\\lib\\site-packages\\matplotlib\\image.py:710\u001b[0m, in \u001b[0;36m_ImageBase.set_data\u001b[1;34m(self, A)\u001b[0m\n\u001b[0;32m    706\u001b[0m     \u001b[39mself\u001b[39m\u001b[39m.\u001b[39m_A \u001b[39m=\u001b[39m \u001b[39mself\u001b[39m\u001b[39m.\u001b[39m_A[:, :, \u001b[39m0\u001b[39m]\n\u001b[0;32m    708\u001b[0m \u001b[39mif\u001b[39;00m \u001b[39mnot\u001b[39;00m (\u001b[39mself\u001b[39m\u001b[39m.\u001b[39m_A\u001b[39m.\u001b[39mndim \u001b[39m==\u001b[39m \u001b[39m2\u001b[39m\n\u001b[0;32m    709\u001b[0m         \u001b[39mor\u001b[39;00m \u001b[39mself\u001b[39m\u001b[39m.\u001b[39m_A\u001b[39m.\u001b[39mndim \u001b[39m==\u001b[39m \u001b[39m3\u001b[39m \u001b[39mand\u001b[39;00m \u001b[39mself\u001b[39m\u001b[39m.\u001b[39m_A\u001b[39m.\u001b[39mshape[\u001b[39m-\u001b[39m\u001b[39m1\u001b[39m] \u001b[39min\u001b[39;00m [\u001b[39m3\u001b[39m, \u001b[39m4\u001b[39m]):\n\u001b[1;32m--> 710\u001b[0m     \u001b[39mraise\u001b[39;00m \u001b[39mTypeError\u001b[39;00m(\u001b[39m\"\u001b[39m\u001b[39mInvalid shape \u001b[39m\u001b[39m{}\u001b[39;00m\u001b[39m for image data\u001b[39m\u001b[39m\"\u001b[39m\n\u001b[0;32m    711\u001b[0m                     \u001b[39m.\u001b[39mformat(\u001b[39mself\u001b[39m\u001b[39m.\u001b[39m_A\u001b[39m.\u001b[39mshape))\n\u001b[0;32m    713\u001b[0m \u001b[39mif\u001b[39;00m \u001b[39mself\u001b[39m\u001b[39m.\u001b[39m_A\u001b[39m.\u001b[39mndim \u001b[39m==\u001b[39m \u001b[39m3\u001b[39m:\n\u001b[0;32m    714\u001b[0m     \u001b[39m# If the input data has values outside the valid range (after\u001b[39;00m\n\u001b[0;32m    715\u001b[0m     \u001b[39m# normalisation), we issue a warning and then clip X to the bounds\u001b[39;00m\n\u001b[0;32m    716\u001b[0m     \u001b[39m# - otherwise casting wraps extreme values, hiding outliers and\u001b[39;00m\n\u001b[0;32m    717\u001b[0m     \u001b[39m# making reliable interpretation impossible.\u001b[39;00m\n\u001b[0;32m    718\u001b[0m     high \u001b[39m=\u001b[39m \u001b[39m255\u001b[39m \u001b[39mif\u001b[39;00m np\u001b[39m.\u001b[39missubdtype(\u001b[39mself\u001b[39m\u001b[39m.\u001b[39m_A\u001b[39m.\u001b[39mdtype, np\u001b[39m.\u001b[39minteger) \u001b[39melse\u001b[39;00m \u001b[39m1\u001b[39m\n",
      "\u001b[1;31mTypeError\u001b[0m: Invalid shape (2352,) for image data"
     ]
    },
    {
     "data": {
      "image/png": "[encoded data removed]",
      "text/plain": [
       "<Figure size 640x480 with 1 Axes>"
      ]
     },
     "metadata": {},
     "output_type": "display_data"
    }
   ],
   "source": [
    "np.save(\"Dados/Xtrain1.npy\", X_trainrs)\n",
    "np.save(\"Dados/ytrain1.npy\", y_train)\n",
    "np.save(\"Dados/Xvalidation1.npy\", X_validationrs)\n",
    "np.save(\"Dados/yvalidation1.npy\", y_validation)\n",
    "np.save(\"Dados/Xtest1.npy\", X_testrs)\n",
    "np.save(\"Dados/ytest1.npy\", y_test)"
   ]
  },
  {
   "cell_type": "markdown",
   "metadata": {},
   "source": [
    "# CNN"
   ]
  },
  {
   "cell_type": "code",
   "execution_count": 24,
   "metadata": {},
   "outputs": [],
   "source": [
    "MLP = Sequential()\n",
    "MLP.add(Convolution2D(16, kernel_size = 3, activation='relu', input_shape=(28, 28, 3), padding='same'))\n",
    "MLP.add(MaxPooling2D((2, 2), strides=2))\n",
    "MLP.add(Convolution2D(32, kernel_size = 3, activation='relu', padding='same'))\n",
    "MLP.add(MaxPooling2D((2, 2), strides=2))\n",
    "MLP.add(Convolution2D(32, kernel_size = 7, activation='relu', padding='same'))\n",
    "MLP.add(MaxPooling2D((2, 2), strides=2))\n",
    "MLP.add(Flatten())\n",
    "MLP.add(Dense(64, activation='relu'))\n",
    "MLP.add(Dense(32, activation='relu'))\n",
    "MLP.add(Dropout(0.5))\n",
    "MLP.add(Dense(32, activation='relu'))\n",
    "MLP.add(Dense(2, activation='softmax'))\n"
   ]
  },
  {
   "cell_type": "markdown",
   "metadata": {},
   "source": [
    "# MLP"
   ]
  },
  {
   "cell_type": "code",
   "execution_count": 46,
   "metadata": {},
   "outputs": [],
   "source": [
    "MLP = Sequential()\n",
    "MLP.add(Dense(64,input_dim=28*28*3, activation='relu'))\n",
    "MLP.add(Dense(32, activation='relu'))\n",
    "MLP.add(Dense(2, activation='softmax'))\n",
    "X_trainrs = X_trainrs.reshape(-1, 28*28*3)\n",
    "X_validationrs = X_validationrs.reshape(-1, 28*28*3)\n"
   ]
  },
  {
   "cell_type": "code",
   "execution_count": 47,
   "metadata": {},
   "outputs": [
    {
     "name": "stdout",
     "output_type": "stream",
     "text": [
      "Model: \"sequential_5\"\n",
      "_________________________________________________________________\n",
      " Layer (type)                Output Shape              Param #   \n",
      "=================================================================\n",
      " dense_17 (Dense)            (None, 64)                150592    \n",
      "                                                                 \n",
      " dense_18 (Dense)            (None, 32)                2080      \n",
      "                                                                 \n",
      " dense_19 (Dense)            (None, 2)                 66        \n",
      "                                                                 \n",
      "=================================================================\n",
      "Total params: 152,738\n",
      "Trainable params: 152,738\n",
      "Non-trainable params: 0\n",
      "_________________________________________________________________\n"
     ]
    }
   ],
   "source": [
    "MLP.summary()"
   ]
  },
  {
   "cell_type": "markdown",
   "metadata": {},
   "source": [
    "# Fit"
   ]
  },
  {
   "cell_type": "code",
   "execution_count": 48,
   "metadata": {},
   "outputs": [],
   "source": [
    "# lr_callback = tf.keras.callbacks.ReduceLROnPlateau(\n",
    "#     monitor='val_loss',\n",
    "#     factor=0.8,\n",
    "#     patience=4,\n",
    "#     min_lr=0.0001\n",
    "# )\n",
    "MLP.compile(optimizer=Adam(learning_rate=0.0005), loss='categorical_crossentropy', metrics=['accuracy'])\n"
   ]
  },
  {
   "cell_type": "code",
   "execution_count": 49,
   "metadata": {},
   "outputs": [
    {
     "name": "stdout",
     "output_type": "stream",
     "text": [
      "Epoch 1/100\n",
      "28/28 - 1s - loss: 0.6812 - accuracy: 0.5842 - val_loss: 0.6750 - val_accuracy: 0.6114 - 774ms/epoch - 28ms/step\n",
      "Epoch 2/100\n",
      "28/28 - 0s - loss: 0.6106 - accuracy: 0.6703 - val_loss: 0.6430 - val_accuracy: 0.6274 - 250ms/epoch - 9ms/step\n",
      "Epoch 3/100\n",
      "28/28 - 0s - loss: 0.5898 - accuracy: 0.6787 - val_loss: 0.6744 - val_accuracy: 0.6204 - 256ms/epoch - 9ms/step\n",
      "Epoch 4/100\n",
      "28/28 - 0s - loss: 0.5746 - accuracy: 0.6946 - val_loss: 0.5786 - val_accuracy: 0.6374 - 228ms/epoch - 8ms/step\n",
      "Epoch 5/100\n",
      "28/28 - 0s - loss: 0.5653 - accuracy: 0.6967 - val_loss: 0.5042 - val_accuracy: 0.6993 - 248ms/epoch - 9ms/step\n",
      "Epoch 6/100\n",
      "28/28 - 0s - loss: 0.5535 - accuracy: 0.7067 - val_loss: 0.5579 - val_accuracy: 0.6454 - 224ms/epoch - 8ms/step\n",
      "Epoch 7/100\n",
      "28/28 - 0s - loss: 0.5472 - accuracy: 0.7091 - val_loss: 0.5527 - val_accuracy: 0.6553 - 249ms/epoch - 9ms/step\n",
      "Epoch 8/100\n",
      "28/28 - 0s - loss: 0.5396 - accuracy: 0.7105 - val_loss: 0.6180 - val_accuracy: 0.6174 - 223ms/epoch - 8ms/step\n",
      "Epoch 9/100\n",
      "28/28 - 0s - loss: 0.5327 - accuracy: 0.7154 - val_loss: 0.4796 - val_accuracy: 0.6983 - 229ms/epoch - 8ms/step\n",
      "Epoch 10/100\n",
      "28/28 - 0s - loss: 0.5261 - accuracy: 0.7182 - val_loss: 0.5352 - val_accuracy: 0.6583 - 234ms/epoch - 8ms/step\n",
      "Epoch 11/100\n",
      "28/28 - 0s - loss: 0.5189 - accuracy: 0.7224 - val_loss: 0.4523 - val_accuracy: 0.7123 - 240ms/epoch - 9ms/step\n",
      "Epoch 12/100\n",
      "28/28 - 0s - loss: 0.5186 - accuracy: 0.7222 - val_loss: 0.4930 - val_accuracy: 0.6813 - 234ms/epoch - 8ms/step\n",
      "Epoch 13/100\n",
      "28/28 - 0s - loss: 0.5112 - accuracy: 0.7285 - val_loss: 0.6003 - val_accuracy: 0.6124 - 242ms/epoch - 9ms/step\n",
      "Epoch 14/100\n",
      "28/28 - 0s - loss: 0.5073 - accuracy: 0.7323 - val_loss: 0.5373 - val_accuracy: 0.6503 - 324ms/epoch - 12ms/step\n",
      "Epoch 15/100\n",
      "28/28 - 0s - loss: 0.5050 - accuracy: 0.7302 - val_loss: 0.4420 - val_accuracy: 0.7183 - 257ms/epoch - 9ms/step\n",
      "Epoch 16/100\n",
      "28/28 - 0s - loss: 0.5035 - accuracy: 0.7348 - val_loss: 0.5116 - val_accuracy: 0.6663 - 219ms/epoch - 8ms/step\n",
      "Epoch 17/100\n",
      "28/28 - 0s - loss: 0.4963 - accuracy: 0.7394 - val_loss: 0.4797 - val_accuracy: 0.6913 - 225ms/epoch - 8ms/step\n",
      "Epoch 18/100\n",
      "28/28 - 0s - loss: 0.4946 - accuracy: 0.7411 - val_loss: 0.4951 - val_accuracy: 0.6763 - 224ms/epoch - 8ms/step\n",
      "Epoch 19/100\n",
      "28/28 - 0s - loss: 0.4912 - accuracy: 0.7443 - val_loss: 0.5637 - val_accuracy: 0.6454 - 228ms/epoch - 8ms/step\n",
      "Epoch 20/100\n",
      "28/28 - 0s - loss: 0.4962 - accuracy: 0.7415 - val_loss: 0.4481 - val_accuracy: 0.7203 - 217ms/epoch - 8ms/step\n",
      "Epoch 21/100\n",
      "28/28 - 0s - loss: 0.4876 - accuracy: 0.7468 - val_loss: 0.4678 - val_accuracy: 0.7003 - 225ms/epoch - 8ms/step\n",
      "Epoch 22/100\n",
      "28/28 - 0s - loss: 0.4868 - accuracy: 0.7482 - val_loss: 0.4208 - val_accuracy: 0.7413 - 224ms/epoch - 8ms/step\n",
      "Epoch 23/100\n",
      "28/28 - 0s - loss: 0.4871 - accuracy: 0.7481 - val_loss: 0.4466 - val_accuracy: 0.7183 - 228ms/epoch - 8ms/step\n",
      "Epoch 24/100\n",
      "28/28 - 0s - loss: 0.4887 - accuracy: 0.7509 - val_loss: 0.3968 - val_accuracy: 0.7572 - 222ms/epoch - 8ms/step\n",
      "Epoch 25/100\n",
      "28/28 - 0s - loss: 0.4848 - accuracy: 0.7511 - val_loss: 0.5215 - val_accuracy: 0.6713 - 226ms/epoch - 8ms/step\n",
      "Epoch 26/100\n",
      "28/28 - 0s - loss: 0.4807 - accuracy: 0.7512 - val_loss: 0.4212 - val_accuracy: 0.7493 - 220ms/epoch - 8ms/step\n",
      "Epoch 27/100\n",
      "28/28 - 0s - loss: 0.4840 - accuracy: 0.7542 - val_loss: 0.3648 - val_accuracy: 0.7992 - 225ms/epoch - 8ms/step\n",
      "Epoch 28/100\n",
      "28/28 - 0s - loss: 0.4899 - accuracy: 0.7494 - val_loss: 0.5266 - val_accuracy: 0.6773 - 221ms/epoch - 8ms/step\n",
      "Epoch 29/100\n",
      "28/28 - 0s - loss: 0.4753 - accuracy: 0.7566 - val_loss: 0.4674 - val_accuracy: 0.7053 - 221ms/epoch - 8ms/step\n",
      "Epoch 30/100\n",
      "28/28 - 0s - loss: 0.4779 - accuracy: 0.7584 - val_loss: 0.4444 - val_accuracy: 0.7203 - 217ms/epoch - 8ms/step\n",
      "Epoch 31/100\n",
      "28/28 - 0s - loss: 0.4743 - accuracy: 0.7581 - val_loss: 0.5728 - val_accuracy: 0.6494 - 222ms/epoch - 8ms/step\n",
      "Epoch 32/100\n",
      "28/28 - 0s - loss: 0.4738 - accuracy: 0.7590 - val_loss: 0.4604 - val_accuracy: 0.7173 - 223ms/epoch - 8ms/step\n",
      "Epoch 33/100\n",
      "28/28 - 0s - loss: 0.4703 - accuracy: 0.7616 - val_loss: 0.5339 - val_accuracy: 0.6723 - 220ms/epoch - 8ms/step\n",
      "Epoch 34/100\n",
      "28/28 - 0s - loss: 0.4687 - accuracy: 0.7629 - val_loss: 0.5256 - val_accuracy: 0.6743 - 221ms/epoch - 8ms/step\n",
      "Epoch 35/100\n",
      "28/28 - 0s - loss: 0.4747 - accuracy: 0.7617 - val_loss: 0.5039 - val_accuracy: 0.6933 - 218ms/epoch - 8ms/step\n",
      "Epoch 36/100\n",
      "28/28 - 0s - loss: 0.4687 - accuracy: 0.7620 - val_loss: 0.5564 - val_accuracy: 0.6533 - 220ms/epoch - 8ms/step\n",
      "Epoch 37/100\n",
      "28/28 - 0s - loss: 0.4776 - accuracy: 0.7607 - val_loss: 0.5095 - val_accuracy: 0.6723 - 218ms/epoch - 8ms/step\n",
      "Epoch 38/100\n",
      "28/28 - 0s - loss: 0.4700 - accuracy: 0.7639 - val_loss: 0.4072 - val_accuracy: 0.7612 - 221ms/epoch - 8ms/step\n",
      "Epoch 39/100\n",
      "28/28 - 0s - loss: 0.4648 - accuracy: 0.7678 - val_loss: 0.4650 - val_accuracy: 0.7103 - 250ms/epoch - 9ms/step\n",
      "Epoch 40/100\n",
      "28/28 - 0s - loss: 0.4624 - accuracy: 0.7696 - val_loss: 0.4727 - val_accuracy: 0.7193 - 215ms/epoch - 8ms/step\n",
      "Epoch 41/100\n",
      "28/28 - 0s - loss: 0.4667 - accuracy: 0.7686 - val_loss: 0.5345 - val_accuracy: 0.6793 - 280ms/epoch - 10ms/step\n",
      "Epoch 42/100\n",
      "28/28 - 0s - loss: 0.4692 - accuracy: 0.7654 - val_loss: 0.6212 - val_accuracy: 0.6384 - 343ms/epoch - 12ms/step\n",
      "Epoch 43/100\n",
      "28/28 - 0s - loss: 0.4666 - accuracy: 0.7670 - val_loss: 0.4239 - val_accuracy: 0.7323 - 271ms/epoch - 10ms/step\n",
      "Epoch 44/100\n",
      "28/28 - 0s - loss: 0.4588 - accuracy: 0.7716 - val_loss: 0.4267 - val_accuracy: 0.7313 - 284ms/epoch - 10ms/step\n",
      "Epoch 45/100\n",
      "28/28 - 0s - loss: 0.4605 - accuracy: 0.7720 - val_loss: 0.5203 - val_accuracy: 0.6833 - 288ms/epoch - 10ms/step\n",
      "Epoch 46/100\n",
      "28/28 - 0s - loss: 0.4700 - accuracy: 0.7636 - val_loss: 0.5536 - val_accuracy: 0.6673 - 260ms/epoch - 9ms/step\n",
      "Epoch 47/100\n",
      "Restoring model weights from the end of the best epoch: 27.\n",
      "28/28 - 0s - loss: 0.4588 - accuracy: 0.7746 - val_loss: 0.5146 - val_accuracy: 0.6833 - 350ms/epoch - 13ms/step\n",
      "Epoch 47: early stopping\n"
     ]
    }
   ],
   "source": [
    "Early_callback = EarlyStopping(monitor='val_loss', patience=20, mode='min', verbose=1, restore_best_weights=True, min_delta=0.0001)\n",
    "hist = MLP.fit(x=X_trainrs, y=y_train, epochs=100, validation_data=(X_validationrs, y_validation), verbose=2, batch_size=1000, callbacks=[Early_callback])"
   ]
  },
  {
   "cell_type": "markdown",
   "metadata": {},
   "source": [
    "# Gráficos e resultados"
   ]
  },
  {
   "cell_type": "code",
   "execution_count": 50,
   "metadata": {},
   "outputs": [
    {
     "data": {
      "image/png": "[encoded data removed]",
      "text/plain": [
       "<Figure size 640x480 with 1 Axes>"
      ]
     },
     "metadata": {},
     "output_type": "display_data"
    }
   ],
   "source": [
    "plotx = hist.history['loss']\n",
    "plotty = hist.history['val_loss']\n",
    "plt.plot(plotx)\n",
    "plt.plot(plotty)\n",
    "plt.xlabel('Epochs')\n",
    "plt.ylabel('Loss')\n",
    "plt.legend(['Train', 'Validation'])\n",
    "plt.show()"
   ]
  },
  {
   "cell_type": "code",
   "execution_count": 51,
   "metadata": {},
   "outputs": [],
   "source": [
    "# y_predtrain = MLP.predict(X_trainrs, verbose=0)\n",
    "# y_predtrain = np.argmax(y_predtrain, axis=1)\n",
    "# cm2 = confusion_matrix(np.argmax(y_train, axis=1), y_predtrain)\n",
    "# disp2 = ConfusionMatrixDisplay(confusion_matrix=cm2, display_labels=[0,1])\n",
    "# disp2.plot()\n",
    "# plt.show()\n",
    "# print(\"F1 ->\", f1_score(np.argmax(y_train, axis=1), y_predtrain))"
   ]
  },
  {
   "cell_type": "code",
   "execution_count": 52,
   "metadata": {},
   "outputs": [
    {
     "name": "stdout",
     "output_type": "stream",
     "text": [
      "40/40 [==============================] - 0s 5ms/step - loss: 0.3716 - accuracy: 0.7938\n",
      "F1 -> 0.4510638297872341\n",
      "Balanced ACC -> 0.7098020720420246\n",
      "[[887 185]\n",
      " [ 73 106]]\n"
     ]
    }
   ],
   "source": [
    "from sklearn.metrics import f1_score\n",
    "X_testrs = X_testrs.reshape(-1, 28*28*3)\n",
    "y_pred = MLP.predict(X_testrs, verbose=0)\n",
    "y_pred = np.argmax(y_pred, axis=1)\n",
    "MLP.evaluate(X_testrs, y_test, verbose=1)\n",
    "y_comp = np.argmax(y_test, axis=1)\n",
    "print(\"F1 ->\", f1_score(y_comp, y_pred))\n",
    "print(\"Balanced ACC ->\", balanced_accuracy_score(y_comp, y_pred))\n",
    "cm = confusion_matrix(y_comp, y_pred)\n",
    "print(cm)"
   ]
  },
  {
   "cell_type": "code",
   "execution_count": 44,
   "metadata": {},
   "outputs": [
    {
     "data": {
      "text/plain": [
       "343"
      ]
     },
     "execution_count": 44,
     "metadata": {},
     "output_type": "execute_result"
    }
   ],
   "source": [
    "counter = 0\n",
    "for i in range(len(y_comp)):\n",
    "    if(y_pred[i] != y_comp[i]):\n",
    "        counter+=1\n",
    "counter"
   ]
  },
  {
   "cell_type": "code",
   "execution_count": 45,
   "metadata": {},
   "outputs": [
    {
     "data": {
      "image/png": "[encoded data removed]",
      "text/plain": [
       "<Figure size 640x480 with 2 Axes>"
      ]
     },
     "metadata": {},
     "output_type": "display_data"
    }
   ],
   "source": [
    "cm = confusion_matrix(y_comp, y_pred)\n",
    "disp = ConfusionMatrixDisplay(confusion_matrix=cm, display_labels=[0,1])\n",
    "disp.plot()\n",
    "plt.show()\n"
   ]
  },
  {
   "cell_type": "markdown",
   "metadata": {},
   "source": [
    "# Valores finais a prever"
   ]
  },
  {
   "cell_type": "code",
   "execution_count": 34,
   "metadata": {},
   "outputs": [],
   "source": [
    "# X_testfinal = np.load(\"Dados/Xtest_Classification1.npy\")\n",
    "# X_testfinal = X_testfinal.astype('float32')/255.0\n",
    "# X_testfinal = X_testfinal.reshape(-1, 28,28,3)  \n",
    "# y_final = MLP.predict(X_testfinal, verbose=0)\n",
    "# y_final = np.argmax(y_final, axis=1)\n",
    "# np.save(\"Dados/yfinal_Classification1.npy\", y_final)\n"
   ]
  },
  {
   "cell_type": "code",
   "execution_count": 35,
   "metadata": {},
   "outputs": [],
   "source": [
    "# counter1 = 0\n",
    "# counter0 = 0\n",
    "# for i in y_final:\n",
    "#     if i == 1: \n",
    "#         counter1 += 1\n",
    "#     if i == 0:\n",
    "#         counter0 +=1\n",
    "# print(counter0)\n",
    "# print(counter1)"
   ]
  },
  {
   "cell_type": "code",
   "execution_count": 36,
   "metadata": {},
   "outputs": [
    {
     "name": "stdout",
     "output_type": "stream",
     "text": [
      "Num GPUs Available:  1\n"
     ]
    }
   ],
   "source": [
    "import tensorflow as tf\n",
    "print(\"Num GPUs Available: \", len(tf.config.list_physical_devices('GPU')))"
   ]
  },
  {
   "cell_type": "code",
   "execution_count": null,
   "metadata": {},
   "outputs": [],
   "source": []
  }
 ],
 "metadata": {
  "kernelspec": {
   "display_name": "Python 3",
   "language": "python",
   "name": "python3"
  },
  "language_info": {
   "codemirror_mode": {
    "name": "ipython",
    "version": 3
   },
   "file_extension": ".py",
   "mimetype": "text/x-python",
   "name": "python",
   "nbconvert_exporter": "python",
   "pygments_lexer": "ipython3",
   "version": "3.10.8"
  }
 },
 "nbformat": 4,
 "nbformat_minor": 2
}
